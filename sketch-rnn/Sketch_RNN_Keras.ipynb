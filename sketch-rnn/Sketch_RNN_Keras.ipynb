{
 "cells": [
  {
   "cell_type": "markdown",
   "metadata": {},
   "source": [
    "# Sketch-RNN with Keras"
   ]
  },
  {
   "cell_type": "markdown",
   "metadata": {},
   "source": [
    "In this notebook we will play around with the models we trained using the [Keras Sketch-RNN](https://github.com/eyalzk/sketch_rnn_keras).\n",
    "We will load the trained models, draw some sketches, travel along the latent space and explore what our model has learned.\n",
    "\n",
    "many examples in this notebook are ported to keras from the [official Magenta demo](https://github.com/tensorflow/magenta-demos/blob/master/jupyter-notebooks/Sketch_RNN.ipynb) and some are my own."
   ]
  },
  {
   "cell_type": "markdown",
   "metadata": {},
   "source": [
    "First, let's set our experiment directory and the checkpoint file that we want to load.\n",
    "\n",
    "We'll start with a model trained on cats:"
   ]
  },
  {
   "cell_type": "code",
   "execution_count": 39,
   "metadata": {},
   "outputs": [],
   "source": [
    "#!/usr/bin/python3\n",
    "# Path to data directory \n",
    "import sys\n",
    "data_dir  = '/datasets/sketch-rnn'\n",
    "# Path to the experiment directory that was created during training\n",
    "exp_dir = 'experiments/apple\\exp'\n",
    "# Checkpoint file name (assumed in checkpoints folder within exp_dir)\n",
    "weights_fname = 'weights.hdf5'\n",
    "sys.path = ['', '/usr/lib/python36.zip', '/usr/lib/python3.6', '/usr/lib/python3.6/lib-dynload', '/home/wloo/.local/lib/python3.6/site-packages', '/usr/local/lib/python3.6/dist-packages', '/usr/local/lib/python3.6/dist-packages/autoPyTorch-0.0.2-py3.6.egg', '/usr/lib/python3/dist-packages']"
   ]
  },
  {
   "cell_type": "markdown",
   "metadata": {},
   "source": [
    "Now let's do some imports and define functions that we will use later on:"
   ]
  },
  {
   "cell_type": "code",
   "execution_count": 40,
   "metadata": {},
   "outputs": [],
   "source": [
    "import os\n",
    "import copy\n",
    "from utils import *\n",
    "from seq2seqVAE_train import *\n",
    "import seq2seqVAE as sketch_rnn_model\n",
    "from seq2seqVAE import sample"
   ]
  },
  {
   "cell_type": "code",
   "execution_count": 41,
   "metadata": {},
   "outputs": [],
   "source": [
    "# disable gpu access so this notebook can run during training (optional)\n",
    "os.environ[\"CUDA_VISIBLE_DEVICES\"]=\"-1\"\n",
    "os.environ[\"CUDA_VISIBLE_DEVICES\"]=\"3\""
   ]
  },
  {
   "cell_type": "code",
   "execution_count": 42,
   "metadata": {},
   "outputs": [],
   "source": [
    "# libraries required for visualisation:\n",
    "from IPython.display import SVG, display\n",
    "import PIL\n",
    "from PIL import Image\n",
    "import matplotlib.pyplot as plt\n",
    "import svgwrite \n",
    "# set numpy output to something sensible\n",
    "np.set_printoptions(precision=8, edgeitems=6, linewidth=200, suppress=True)"
   ]
  },
  {
   "cell_type": "code",
   "execution_count": 56,
   "metadata": {},
   "outputs": [],
   "source": [
    "# little function that displays vector images and saves them to .svg\n",
    "def draw_strokes(data, factor=0.2, svg_filename = '/tmp/sketch_rnn/svg/sample.svg'):\n",
    "    #print(data)\n",
    "    if not os.path.exists(os.path.dirname(svg_filename)):\n",
    "        os.makedirs(os.path.dirname(svg_filename))\n",
    "    min_x, max_x, min_y, max_y = get_bounds(data, factor)\n",
    "    dims = (50 + max_x - min_x, 50 + max_y - min_y)\n",
    "    dwg = svgwrite.Drawing(svg_filename, size=dims)\n",
    "    dwg.add(dwg.rect(insert=(0, 0), size=dims,fill='white'))\n",
    "    lift_pen = 1\n",
    "    abs_x = 25 - min_x \n",
    "    abs_y = 25 - min_y\n",
    "    p = \"M%s,%s \" % (abs_x, abs_y)\n",
    "    command = \"m\"\n",
    "    for i in range(len(data)):\n",
    "        if (lift_pen == 1):\n",
    "            command = \"m\"\n",
    "        elif (command != \"l\"):\n",
    "            command = \"l\"\n",
    "        else:\n",
    "            command = \"\"\n",
    "        x = float(data[i,0])/factor\n",
    "        y = float(data[i,1])/factor\n",
    "        lift_pen = data[i, 2]\n",
    "        p += command+str(x)+\",\"+str(y)+\" \"\n",
    "    the_color = \"black\"\n",
    "    stroke_width = 1\n",
    "    dwg.add(dwg.path(p).stroke(the_color,stroke_width).fill(\"none\"))\n",
    "    dwg.save()\n",
    "    display(SVG(dwg.tostring()))\n",
    "    return SVG(dwg.tostring())\n",
    "\n",
    "# generate a 2D grid of many vector drawings\n",
    "def make_grid_svg(s_list, grid_space=10.0, grid_space_x=16.0):\n",
    "    def get_start_and_end(x):\n",
    "        x = np.array(x)\n",
    "        x = x[:, 0:2]\n",
    "        x_start = x[0]\n",
    "        x_end = x.sum(axis=0)\n",
    "        x = x.cumsum(axis=0)\n",
    "        x_max = x.max(axis=0)\n",
    "        x_min = x.min(axis=0)\n",
    "        center_loc = (x_max+x_min)*0.5\n",
    "        return x_start-center_loc, x_end\n",
    "    x_pos = 0.0\n",
    "    y_pos = 0.0\n",
    "    result = [[x_pos, y_pos, 1]]\n",
    "    for sample in s_list:\n",
    "        s = sample[0]\n",
    "        grid_loc = sample[1]\n",
    "        grid_y = grid_loc[0]*grid_space+grid_space*0.5\n",
    "        grid_x = grid_loc[1]*grid_space_x+grid_space_x*0.5\n",
    "        start_loc, delta_pos = get_start_and_end(s)\n",
    "    \n",
    "        loc_x = start_loc[0]\n",
    "        loc_y = start_loc[1]\n",
    "        new_x_pos = grid_x+loc_x\n",
    "        new_y_pos = grid_y+loc_y\n",
    "        result.append([new_x_pos-x_pos, new_y_pos-y_pos, 0])\n",
    "    \n",
    "        result += s.tolist()\n",
    "        result[-1][2] = 1\n",
    "        x_pos = new_x_pos+delta_pos[0]\n",
    "        y_pos = new_y_pos+delta_pos[1]\n",
    "    return np.array(result)"
   ]
  },
  {
   "cell_type": "markdown",
   "metadata": {},
   "source": [
    "Read parameter file and load data:"
   ]
  },
  {
   "cell_type": "code",
   "execution_count": 44,
   "metadata": {},
   "outputs": [
    {
     "name": "stdout",
     "output_type": "stream",
     "text": [
      "Loaded 127188/2500/2500 from /datasets/sketch-rnn/apple.full.npz\n",
      "Dataset combined: 132188 (127188/2500/2500), avg len 37\n",
      "model_params.max_seq_len: 62\n",
      "total images <= max_seq_len is 127188\n",
      "total images <= max_seq_len is 2500\n",
      "total images <= max_seq_len is 2500\n",
      "normalizing_scale_factor  30.243933\n"
     ]
    }
   ],
   "source": [
    "with open(os.path.join(exp_dir,'logs', 'model_config.json'), 'r') as f:\n",
    "    model_params = json.load(f)\n",
    "model_params = DotDict(model_params)   \n",
    "[train_set, valid_set, test_set, hps_model] = load_dataset(data_dir, model_params)"
   ]
  },
  {
   "cell_type": "markdown",
   "metadata": {},
   "source": [
    "Build a Seq2seq variational autoencoder model and load weights from checkpoint:"
   ]
  },
  {
   "cell_type": "code",
   "execution_count": 45,
   "metadata": {},
   "outputs": [
    {
     "name": "stdout",
     "output_type": "stream",
     "text": [
      "Using CuDNNLSTM - No Recurrent Dropout!\n",
      "Model: \"model_9\"\n",
      "__________________________________________________________________________________________________\n",
      "Layer (type)                    Output Shape         Param #     Connected to                     \n",
      "==================================================================================================\n",
      "encoder_input (InputLayer)      (None, 62, 5)        0                                            \n",
      "__________________________________________________________________________________________________\n",
      "bidirectional_3 (Bidirectional) (None, 512)          538624      encoder_input[0][0]              \n",
      "__________________________________________________________________________________________________\n",
      "dense_5 (Dense)                 (None, 128)          65664       bidirectional_3[0][0]            \n",
      "__________________________________________________________________________________________________\n",
      "dense_6 (Dense)                 (None, 128)          65664       bidirectional_3[0][0]            \n",
      "__________________________________________________________________________________________________\n",
      "lambda_5 (Lambda)               (None, 128)          0           dense_5[0][0]                    \n",
      "                                                                 dense_6[0][0]                    \n",
      "__________________________________________________________________________________________________\n",
      "decoder_input (InputLayer)      (None, 62, 5)        0                                            \n",
      "__________________________________________________________________________________________________\n",
      "repeat_vector_5 (RepeatVector)  (None, 62, 128)      0           lambda_5[0][0]                   \n",
      "__________________________________________________________________________________________________\n",
      "concatenate_5 (Concatenate)     (None, 62, 133)      0           decoder_input[0][0]              \n",
      "                                                                 repeat_vector_5[0][0]            \n",
      "__________________________________________________________________________________________________\n",
      "cu_dnnlstm_6 (CuDNNLSTM)        [(None, 62, 512), (N 1325056     concatenate_5[0][0]              \n",
      "__________________________________________________________________________________________________\n",
      "output (Dense)                  (None, 62, 123)      63099       cu_dnnlstm_6[0][0]               \n",
      "==================================================================================================\n",
      "Total params: 2,058,107\n",
      "Trainable params: 2,058,107\n",
      "Non-trainable params: 0\n",
      "__________________________________________________________________________________________________\n",
      "Weights from experiments/apple\\exp/checkpoints/weights.hdf5 loaded successfully\n",
      "Created Sub Models!\n"
     ]
    }
   ],
   "source": [
    "weights = os.path.join(exp_dir,'checkpoints',weights_fname) # checkpoint path\n",
    "seq2seq = Seq2seqModel(model_params)  # build model\n",
    "seq2seq.load_trained_weights(weights) # load checkpoint\n",
    "seq2seq.make_sampling_models()  # build sub models that are used to infuse inputs and probe values of intermediate layers"
   ]
  },
  {
   "cell_type": "code",
   "execution_count": 46,
   "metadata": {},
   "outputs": [],
   "source": [
    "# Function for encoding input and retrieving latent vector\n",
    "def encode(input_strokes, draw=False):\n",
    "    strokes = to_big_strokes(input_strokes, max_len=model_params['max_seq_len']-1).tolist()\n",
    "    strokes.insert(0, [0, 0, 1, 0, 0])\n",
    "    seq_len = [len(input_strokes)]\n",
    "    if draw:\n",
    "        draw_strokes(to_normal_strokes(np.array(strokes)))\n",
    "    strokes = np.expand_dims(strokes, axis=0)\n",
    "    return seq2seq.sample_models['encoder_model'].predict(strokes)\n"
   ]
  },
  {
   "cell_type": "code",
   "execution_count": 47,
   "metadata": {},
   "outputs": [],
   "source": [
    "# Function for decoding a latent space factor into a sketch\n",
    "def decode(z_input=None, draw_mode=True, temperature=0.1, factor=0.2):\n",
    "    z = None\n",
    "    if z_input is not None:\n",
    "        z = z_input\n",
    "    sample_strokes, m = sample(seq2seq, seq_len=model_params.max_seq_len, temperature=temperature, z=z)\n",
    "    strokes = to_normal_strokes(sample_strokes)\n",
    "    if draw_mode:\n",
    "        draw_strokes(strokes, factor)\n",
    "    return strokes"
   ]
  },
  {
   "cell_type": "code",
   "execution_count": 48,
   "metadata": {},
   "outputs": [],
   "source": [
    "import matplotlib.pyplot as plt\n",
    "from mpl_toolkits.axes_grid1 import ImageGrid\n",
    "import numpy as np"
   ]
  },
  {
   "cell_type": "markdown",
   "metadata": {},
   "source": [
    "Let's take a random sketch from the unseen test set and draw it:"
   ]
  },
  {
   "cell_type": "code",
   "execution_count": 22,
   "metadata": {},
   "outputs": [
    {
     "data": {
      "text/plain": [
       "'\\nimport os\\nfor class_name in os.listdir(\\'experiments\\'):\\n    exp_dir = \\'experiments/{}\\'.format(class_name)\\n    with open(os.path.join(exp_dir,\\'logs\\', \\'model_config.json\\'), \\'r\\') as f:\\n        model_params = json.load(f)\\n    model_params = DotDict(model_params)   \\n    [train_set, valid_set, test_set, hps_model] = load_dataset(data_dir, model_params)\\n\\n    weights = os.path.join(exp_dir,\\'checkpoints\\',weights_fname) # checkpoint path\\n    seq2seq = Seq2seqModel(model_params)  # build model\\n    seq2seq.load_trained_weights(weights) # load checkpoint\\n    seq2seq.make_sampling_models()  # build sub models that are used to infuse inputs and probe values of intermediate layers\\n\\n    stroke_list = []\\n    for i in range(10):\\n        out = np.expand_dims(np.random.randn(model_params.z_size),0)\\n        stroke_list.append([decode(out,draw_mode=False),[0, i]])\\n    stroke_grid = make_grid_svg(stroke_list)\\n    print(\"{} v\".format(class_name))\\n    draw_strokes(stroke_grid);\\n'"
      ]
     },
     "execution_count": 22,
     "metadata": {},
     "output_type": "execute_result"
    }
   ],
   "source": [
    "\"\"\"\n",
    "import os\n",
    "for class_name in os.listdir('experiments'):\n",
    "    exp_dir = 'experiments/{}'.format(class_name)\n",
    "    with open(os.path.join(exp_dir,'logs', 'model_config.json'), 'r') as f:\n",
    "        model_params = json.load(f)\n",
    "    model_params = DotDict(model_params)   \n",
    "    [train_set, valid_set, test_set, hps_model] = load_dataset(data_dir, model_params)\n",
    "\n",
    "    weights = os.path.join(exp_dir,'checkpoints',weights_fname) # checkpoint path\n",
    "    seq2seq = Seq2seqModel(model_params)  # build model\n",
    "    seq2seq.load_trained_weights(weights) # load checkpoint\n",
    "    seq2seq.make_sampling_models()  # build sub models that are used to infuse inputs and probe values of intermediate layers\n",
    "\n",
    "    stroke_list = []\n",
    "    for i in range(10):\n",
    "        out = np.expand_dims(np.random.randn(model_params.z_size),0)\n",
    "        stroke_list.append([decode(out,draw_mode=False),[0, i]])\n",
    "    stroke_grid = make_grid_svg(stroke_list)\n",
    "    print(\"{} v\".format(class_name))\n",
    "    draw_strokes(stroke_grid);\n",
    "\"\"\""
   ]
  },
  {
   "cell_type": "code",
   "execution_count": null,
   "metadata": {},
   "outputs": [],
   "source": []
  },
  {
   "cell_type": "code",
   "execution_count": 26,
   "metadata": {},
   "outputs": [
    {
     "ename": "IndexError",
     "evalue": "too many indices for array: array is 0-dimensional, but 2 were indexed",
     "output_type": "error",
     "traceback": [
      "\u001b[0;31m---------------------------------------------------------------------------\u001b[0m",
      "\u001b[0;31mIndexError\u001b[0m                                Traceback (most recent call last)",
      "\u001b[0;32m<ipython-input-26-2fe2cebd196a>\u001b[0m in \u001b[0;36m<module>\u001b[0;34m\u001b[0m\n\u001b[1;32m      8\u001b[0m     \u001b[0mout\u001b[0m \u001b[0;34m=\u001b[0m \u001b[0mnp\u001b[0m\u001b[0;34m.\u001b[0m\u001b[0mexpand_dims\u001b[0m\u001b[0;34m(\u001b[0m\u001b[0mnp\u001b[0m\u001b[0;34m.\u001b[0m\u001b[0mrandom\u001b[0m\u001b[0;34m.\u001b[0m\u001b[0mrandn\u001b[0m\u001b[0;34m(\u001b[0m\u001b[0mmodel_params\u001b[0m\u001b[0;34m.\u001b[0m\u001b[0mz_size\u001b[0m\u001b[0;34m)\u001b[0m\u001b[0;34m,\u001b[0m\u001b[0;36m0\u001b[0m\u001b[0;34m)\u001b[0m\u001b[0;34m\u001b[0m\u001b[0;34m\u001b[0m\u001b[0m\n\u001b[1;32m      9\u001b[0m     \u001b[0mstroke_list\u001b[0m\u001b[0;34m.\u001b[0m\u001b[0mappend\u001b[0m\u001b[0;34m(\u001b[0m\u001b[0;34m[\u001b[0m\u001b[0mdecode\u001b[0m\u001b[0;34m(\u001b[0m\u001b[0mout\u001b[0m\u001b[0;34m,\u001b[0m\u001b[0mdraw_mode\u001b[0m\u001b[0;34m=\u001b[0m\u001b[0;32mFalse\u001b[0m\u001b[0;34m)\u001b[0m\u001b[0;34m,\u001b[0m\u001b[0;34m[\u001b[0m\u001b[0;36m0\u001b[0m\u001b[0;34m,\u001b[0m \u001b[0mi\u001b[0m\u001b[0;34m]\u001b[0m\u001b[0;34m]\u001b[0m\u001b[0;34m)\u001b[0m\u001b[0;34m\u001b[0m\u001b[0;34m\u001b[0m\u001b[0m\n\u001b[0;32m---> 10\u001b[0;31m \u001b[0mstroke_grid\u001b[0m \u001b[0;34m=\u001b[0m \u001b[0mmake_grid_svg\u001b[0m\u001b[0;34m(\u001b[0m\u001b[0mstroke_list\u001b[0m\u001b[0;34m)\u001b[0m\u001b[0;34m\u001b[0m\u001b[0;34m\u001b[0m\u001b[0m\n\u001b[0m\u001b[1;32m     11\u001b[0m \u001b[0mprint\u001b[0m\u001b[0;34m(\u001b[0m\u001b[0;34m\"vase v\"\u001b[0m\u001b[0;34m)\u001b[0m\u001b[0;34m\u001b[0m\u001b[0;34m\u001b[0m\u001b[0m\n\u001b[1;32m     12\u001b[0m \u001b[0mdraw_strokes\u001b[0m\u001b[0;34m(\u001b[0m\u001b[0mstroke_grid\u001b[0m\u001b[0;34m)\u001b[0m\u001b[0;34m;\u001b[0m\u001b[0;34m\u001b[0m\u001b[0;34m\u001b[0m\u001b[0m\n",
      "\u001b[0;32m<ipython-input-8-ca5c57d610b2>\u001b[0m in \u001b[0;36mmake_grid_svg\u001b[0;34m(s_list, grid_space, grid_space_x)\u001b[0m\n\u001b[1;32m     51\u001b[0m         \u001b[0mgrid_y\u001b[0m \u001b[0;34m=\u001b[0m \u001b[0mgrid_loc\u001b[0m\u001b[0;34m[\u001b[0m\u001b[0;36m0\u001b[0m\u001b[0;34m]\u001b[0m\u001b[0;34m*\u001b[0m\u001b[0mgrid_space\u001b[0m\u001b[0;34m+\u001b[0m\u001b[0mgrid_space\u001b[0m\u001b[0;34m*\u001b[0m\u001b[0;36m0.5\u001b[0m\u001b[0;34m\u001b[0m\u001b[0;34m\u001b[0m\u001b[0m\n\u001b[1;32m     52\u001b[0m         \u001b[0mgrid_x\u001b[0m \u001b[0;34m=\u001b[0m \u001b[0mgrid_loc\u001b[0m\u001b[0;34m[\u001b[0m\u001b[0;36m1\u001b[0m\u001b[0;34m]\u001b[0m\u001b[0;34m*\u001b[0m\u001b[0mgrid_space_x\u001b[0m\u001b[0;34m+\u001b[0m\u001b[0mgrid_space_x\u001b[0m\u001b[0;34m*\u001b[0m\u001b[0;36m0.5\u001b[0m\u001b[0;34m\u001b[0m\u001b[0;34m\u001b[0m\u001b[0m\n\u001b[0;32m---> 53\u001b[0;31m         \u001b[0mstart_loc\u001b[0m\u001b[0;34m,\u001b[0m \u001b[0mdelta_pos\u001b[0m \u001b[0;34m=\u001b[0m \u001b[0mget_start_and_end\u001b[0m\u001b[0;34m(\u001b[0m\u001b[0ms\u001b[0m\u001b[0;34m)\u001b[0m\u001b[0;34m\u001b[0m\u001b[0;34m\u001b[0m\u001b[0m\n\u001b[0m\u001b[1;32m     54\u001b[0m \u001b[0;34m\u001b[0m\u001b[0m\n\u001b[1;32m     55\u001b[0m         \u001b[0mloc_x\u001b[0m \u001b[0;34m=\u001b[0m \u001b[0mstart_loc\u001b[0m\u001b[0;34m[\u001b[0m\u001b[0;36m0\u001b[0m\u001b[0;34m]\u001b[0m\u001b[0;34m\u001b[0m\u001b[0;34m\u001b[0m\u001b[0m\n",
      "\u001b[0;32m<ipython-input-8-ca5c57d610b2>\u001b[0m in \u001b[0;36mget_start_and_end\u001b[0;34m(x)\u001b[0m\n\u001b[1;32m     35\u001b[0m     \u001b[0;32mdef\u001b[0m \u001b[0mget_start_and_end\u001b[0m\u001b[0;34m(\u001b[0m\u001b[0mx\u001b[0m\u001b[0;34m)\u001b[0m\u001b[0;34m:\u001b[0m\u001b[0;34m\u001b[0m\u001b[0;34m\u001b[0m\u001b[0m\n\u001b[1;32m     36\u001b[0m         \u001b[0mx\u001b[0m \u001b[0;34m=\u001b[0m \u001b[0mnp\u001b[0m\u001b[0;34m.\u001b[0m\u001b[0marray\u001b[0m\u001b[0;34m(\u001b[0m\u001b[0mx\u001b[0m\u001b[0;34m)\u001b[0m\u001b[0;34m\u001b[0m\u001b[0;34m\u001b[0m\u001b[0m\n\u001b[0;32m---> 37\u001b[0;31m         \u001b[0mx\u001b[0m \u001b[0;34m=\u001b[0m \u001b[0mx\u001b[0m\u001b[0;34m[\u001b[0m\u001b[0;34m:\u001b[0m\u001b[0;34m,\u001b[0m \u001b[0;36m0\u001b[0m\u001b[0;34m:\u001b[0m\u001b[0;36m2\u001b[0m\u001b[0;34m]\u001b[0m\u001b[0;34m\u001b[0m\u001b[0;34m\u001b[0m\u001b[0m\n\u001b[0m\u001b[1;32m     38\u001b[0m         \u001b[0mx_start\u001b[0m \u001b[0;34m=\u001b[0m \u001b[0mx\u001b[0m\u001b[0;34m[\u001b[0m\u001b[0;36m0\u001b[0m\u001b[0;34m]\u001b[0m\u001b[0;34m\u001b[0m\u001b[0;34m\u001b[0m\u001b[0m\n\u001b[1;32m     39\u001b[0m         \u001b[0mx_end\u001b[0m \u001b[0;34m=\u001b[0m \u001b[0mx\u001b[0m\u001b[0;34m.\u001b[0m\u001b[0msum\u001b[0m\u001b[0;34m(\u001b[0m\u001b[0maxis\u001b[0m\u001b[0;34m=\u001b[0m\u001b[0;36m0\u001b[0m\u001b[0;34m)\u001b[0m\u001b[0;34m\u001b[0m\u001b[0;34m\u001b[0m\u001b[0m\n",
      "\u001b[0;31mIndexError\u001b[0m: too many indices for array: array is 0-dimensional, but 2 were indexed"
     ]
    }
   ],
   "source": [
    "random_cat_1 = np.expand_dims(np.random.randn(model_params.z_size),0)\n",
    "#print(random_cat_1)\n",
    "#img = decode(random_cat_1)\n",
    "#plt.plot(img)\n",
    "\n",
    "stroke_list = []\n",
    "for i in range(10):\n",
    "    out = np.expand_dims(np.random.randn(model_params.z_size),0)\n",
    "    stroke_list.append([decode(out,draw_mode=False),[0, i]])\n",
    "stroke_grid = make_grid_svg(stroke_list)\n",
    "print(\"vase v\")\n",
    "draw_strokes(stroke_grid);\n",
    "#fig, axes = plt.subplots(grid_size, grid_size, figsize=(result_figsize_resolution, result_figsize_resolution))\n",
    "#plt.imread(\"/tmp/sketch_rnn/svg/sample.svg\")"
   ]
  },
  {
   "cell_type": "code",
   "execution_count": 53,
   "metadata": {},
   "outputs": [],
   "source": [
    "\"\"\" Original Implementation (Magenta) Utilities\"\"\"\n",
    "def get_bounds(data, factor=10):\n",
    "    \"\"\"Return bounds of data.\"\"\"\n",
    "    min_x = 0\n",
    "    max_x = 0\n",
    "    min_y = 0\n",
    "    max_y = 0\n",
    "\n",
    "    abs_x = 0\n",
    "    abs_y = 0\n",
    "    for i in range(len(data)):\n",
    "        x = float(data[i, 0]) / factor\n",
    "        y = float(data[i, 1]) / factor\n",
    "        abs_x += x\n",
    "        abs_y += y\n",
    "        min_x = min(min_x, abs_x)\n",
    "        min_y = min(min_y, abs_y)\n",
    "        max_x = max(max_x, abs_x)\n",
    "        max_y = max(max_y, abs_y)\n",
    "\n",
    "    return (min_x, max_x, min_y, max_y)"
   ]
  },
  {
   "cell_type": "code",
   "execution_count": 231,
   "metadata": {},
   "outputs": [],
   "source": [
    "# Get a sample drawing from the test set, and render it to .svg\n",
    "stroke = test_set.random_sample()\n",
    "#draw_strokes(stroke,svg_filename = '/tmp/sketch_rnn/svg/sample.svg')\n"
   ]
  },
  {
   "cell_type": "markdown",
   "metadata": {},
   "source": [
    "Now we will encode this sketch into the latent space.\n",
    "\n",
    "Note that our encoder was constructed to be non-deterministic. So the same sketch will be encoded to different latent representations each time we encode."
   ]
  },
  {
   "cell_type": "code",
   "execution_count": 277,
   "metadata": {},
   "outputs": [],
   "source": [
    "model_out = np.expand_dims(np.random.randn(model_params.z_size),0)\n",
    "strokes = decode(draw_mode=False)"
   ]
  },
  {
   "cell_type": "markdown",
   "metadata": {},
   "source": [
    "Now we decode this encoded representation back to a sketch:"
   ]
  },
  {
   "cell_type": "code",
   "execution_count": 298,
   "metadata": {},
   "outputs": [
    {
     "data": {
      "image/png": "[encoded data removed]",
      "text/plain": [
       "<Figure size 576x576 with 1 Axes>"
      ]
     },
     "metadata": {
      "needs_background": "light"
     },
     "output_type": "display_data"
    }
   ],
   "source": [
    "model_out = np.expand_dims(np.random.randn(model_params.z_size),0)\n",
    "strokes = decode(model_out,draw_mode=False)\n",
    "\"\"\"\n",
    "EXPECTED OUT\n",
    "{'x1': -1, 'y1': 2, 'x2': 1, 'y2': 3, 'color': 'rgba(100%,0%,100%,0.5)', 'penLifted': 0, 'strokeWidth': 4, 'roomId': '1'}\n",
    "{'x1': -1, 'y1': 2, 'x2': 1, 'y2': 4, 'color': 'rgba(100%,0%,100%,0.5)', 'penLifted': 0, 'strokeWidth': 4, 'roomId': '1'}\n",
    "\"\"\"\n",
    "\n",
    "#print(get_bounds(strokes))\n",
    "#print(strokes)\n",
    "\n",
    "#print(width,height)\n",
    "#center_x = np.mean([max_x,min_x])\n",
    "#center_y = np.mean([max_y,min_y])\n",
    "\n",
    "#print(center_x,center_y)\n",
    "def generate_strokes_dictionary(strokes,factor=0.2):\n",
    "    curr=[250,250]\n",
    "    #print(strokes)\n",
    "    trans_x = []\n",
    "    trans_y = []\n",
    "    \n",
    "    min_x, max_x, min_y, max_y = get_bounds(strokes,factor=factor)\n",
    "    \n",
    "    width = max_x-min_x\n",
    "    height = max_y-min_y\n",
    "    \n",
    "    for x,y,p in strokes:\n",
    "        #trans_x.append(250+((x/width)*250))\n",
    "        #trans_y.append(250+((-y/height)*250))\n",
    "        curr[0] = curr[0]+(x/factor)\n",
    "        curr[1] = curr[1]+(y/factor)\n",
    "        trans_x.append(curr[0])\n",
    "        trans_y.append(curr[1])\n",
    "\n",
    "\n",
    "\n",
    "    res = []    \n",
    "    for i in range(len(trans_x)-1):\n",
    "        curr_x = trans_x[i]\n",
    "        curr_y = trans_y[i]\n",
    "\n",
    "        next_x = trans_x[i+1]\n",
    "        next_y = trans_y[i+1]\n",
    "        pen_lift = int(strokes[i][2])\n",
    "\n",
    "        res.append({'x1': curr_x, 'y1': curr_y, 'x2': next_x, 'y2': next_y, 'color': 'rgba(100%,0%,100%,0.5)', 'penLifted': pen_lift, 'strokeWidth': 4, 'roomId': '1'})\n",
    "\n",
    "    #last point\n",
    "    last_x = trans_x[len(trans_x)-1]\n",
    "    last_y = trans_y[len(trans_y)-1]\n",
    "    last_pen_lift = int(strokes[len(strokes)-1][2])\n",
    "\n",
    "    res.append({'x1': curr_x, 'y1': curr_y, 'x2': last_x, 'y2': last_y, 'color': 'rgba(100%,0%,100%,0.5)', 'penLifted': last_pen_lift, 'strokeWidth': 4, 'roomId': '1'})\n",
    "    return res\n",
    "\n",
    "\n",
    "strokes_dictionary = generate_strokes_dictionary(strokes,factor=0.05)\n",
    "#print(strokes_dictionary)\n",
    "\n",
    "#plt.figure(figsize=(8,8))\n",
    "#plt.scatter(trans_x,trans_y)\n",
    "#plt.scatter([max_x,min_x],[max_y,min_y])\n",
    "#plt.scatter([center_x],[center_y])\n",
    "\n",
    "#test drawing \n",
    "plt.figure(figsize=(8,8))\n",
    "plt.ylim(ymax = 0, ymin = 500)\n",
    "plt.xlim(xmax = 500, xmin = 0)\n",
    "for d in strokes_dictionary:\n",
    "    x1 = d['x1']\n",
    "    x2 = d['x2']\n",
    "    y1 = d['y1']\n",
    "    y2 = d['y2']\n",
    "    p = d['penLifted']\n",
    "    if not p:\n",
    "        #plt.plot([x1, y1], [x2, y2], 'k', lw=2)\n",
    "        plt.annotate(\"\",\n",
    "              xy=(x1, y1), xycoords='data',\n",
    "              xytext=(x2, y2), textcoords='data',\n",
    "              arrowprops=dict(arrowstyle=\"-\",\n",
    "                              edgecolor = \"red\",\n",
    "                              linewidth=3,\n",
    "                              alpha=0.65,\n",
    "                              connectionstyle=\"arc3,rad=0.\"),)"
   ]
  },
  {
   "cell_type": "markdown",
   "metadata": {},
   "source": [
    "The temperature variable controls the level of randomness we would like our samples to have during the\n",
    "sampling (equation 8 of the sketch-rnn [paper](https://arxiv.org/pdf/1704.03477.pdf)).\n",
    "\n",
    "Let's decode our cat using varying temperature values between 0.1 and 1 and see how 'creative' our model can get:"
   ]
  },
  {
   "cell_type": "code",
   "execution_count": 33,
   "metadata": {
    "scrolled": true
   },
   "outputs": [
    {
     "data": {
      "image/svg+xml": [
       "<svg baseProfile=\"full\" height=\"123.69595323689282\" version=\"1.1\" width=\"827.6836263237055\" xmlns=\"http://www.w3.org/2000/svg\" xmlns:ev=\"http://www.w3.org/2001/xml-events\" xmlns:xlink=\"http://www.w3.org/1999/xlink\"><defs/><rect fill=\"white\" height=\"123.69595323689282\" width=\"827.6836263237055\" x=\"0\" y=\"0\"/><path d=\"M25,37.15599513147026 m0.0,0.0 m29.51341620646417,11.602175934240222 l-0.13947084546089172,-0.11269137263298035 3.2625091075897217,3.4444350004196167 l1.5632541477680206,3.61076682806015 -0.7053852826356888,5.044845938682556 l-2.6267197728157043,4.250727891921997 -2.508212625980377,4.47045773267746 l-0.6176647543907166,3.6499518156051636 0.2021721936762333,4.152971804141998 l0.9668692201375961,1.7683780193328857 1.7444556951522827,1.309496909379959 l2.585515081882477,0.8420475572347641 7.435359358787537,0.21294092759490013 l3.0844366550445557,-0.759507566690445 4.176640808582306,-2.152177542448044 l1.7066505551338196,-1.6998030245304108 1.6349610686302185,-3.2608750462532043 l0.7005453109741211,-4.13305401802063 -0.22256886586546898,-2.106848508119583 l-1.8119323253631592,-3.4519201517105103 -4.939698278903961,-3.004261553287506 l-1.4529125392436981,-2.153421938419342 -0.36934085190296173,-2.0792192220687866 l0.4476451501250267,-2.4305562674999237 1.4384883642196655,-2.2444042563438416 l0.7620961964130402,-1.4089089632034302 1.4750093221664429,-1.2810774147510529 l1.5657378733158112,-0.955762192606926 -0.3642745316028595,-0.37801843136548996 l-14.779359102249146,0.7228236645460129 m-1.058625504374504,-0.13937726616859436 l1.0686691850423813,-0.4734993726015091 m4.951327741146088,0.4794417694211006 l-0.33285725861787796,-2.5109031796455383 m1.2900735437870026,1.5225164592266083 l-0.6504261493682861,-0.37273332476615906 m1.432480663061142,-0.2919503301382065 l-0.5925736576318741,-0.9193320572376251 m0.006803513970226049,0.2649177797138691 l-0.6866120547056198,0.16637522727251053 -0.2659640274941921,-0.40695108473300934 l0.1653202436864376,-0.756974071264267 0.42365387082099915,-0.5000532418489456 l0.7169521600008011,-0.3191046416759491 0.6334993988275528,0.04196939989924431 l0.23115249350667,0.5791071057319641 -0.06489848718047142,0.6509450078010559 l-0.2741495706140995,0.5348527804017067 0.2454925887286663,0.38857314735651016 l-0.22208197042346,0.5102147907018661 -0.8157099038362503,0.5974224209785461 l-0.6277424097061157,0.26485102251172066 -0.5944560840725899,0.3918631374835968 l-0.6906430423259735,-0.3491993620991707 -0.6095502153038979,-1.0447435081005096 l-0.39485905319452286,-1.0967808961868286 0.10166395455598831,-0.5752465128898621 l0.5746703594923019,-0.33806130290031433 0.4353902116417885,-0.7357978820800781 l0.44128838926553726,-0.6440170109272003 0.6996769458055496,-0.6383106112480164 l1.1620843410491943,-0.22141467779874802 0.5288756266236305,0.9117233753204346 l-0.051113166846334934,0.9919882565736771 -0.5633680149912834,0.8414815366268158 l-0.7851529121398926,0.5670742318034172 -0.4182099923491478,0.5059622228145599 l-0.6656336039304733,0.7010512053966522 -1.1739377677440643,0.5126500129699707 l-0.9515886008739471,-0.3725156933069229 -0.4999011382460594,-1.0783898085355759 l0.3171997517347336,-0.1710079237818718 0.6575952470302582,-0.35381413996219635 l0.3765888884663582,-0.6047442927956581 0.28186891227960587,-0.48804305493831635 l0.7060088962316513,-0.6143154576420784 0.5677046626806259,-0.3775651752948761 l0.8624354749917984,-0.18091216683387756 1.0541903227567673,-0.2061973139643669 l0.28349360451102257,0.8956155180931091 -0.3316803649067879,0.9887337684631348 l-0.5516639351844788,0.5547918751835823 -0.2620980888605118,0.601702518761158 m69.46835594484583,6.1324280221015215 l-0.16045862808823586,-0.14546388760209084 3.212665319442749,3.447082042694092 l1.5916472673416138,3.7570184469223022 0.014469926245510578,3.5912466049194336 l-3.3794820308685303,6.1910682916641235 -2.385331243276596,3.823748528957367 l-0.6290694326162338,3.0824610590934753 0.23196028545498848,4.406037330627441 l0.9398137032985687,1.8190327286720276 1.5538686513900757,1.3396672904491425 l2.291615903377533,0.8462956547737122 7.31144905090332,0.23839881643652916 l3.535585403442383,-0.8672381937503815 3.838084042072296,-1.9833828508853912 l2.890489399433136,-2.541990578174591 1.6479045152664185,-3.031947612762451 l0.3549444302916527,-2.195553034543991 -0.40991321206092834,-3.3661118149757385 l-1.525234878063202,-3.1887152791023254 -1.4793586730957031,-2.439362406730652 l-2.7024656534194946,-3.1946980953216553 -0.5698840320110321,-2.2422567009925842 l0.6371212750673294,-3.4712743759155273 3.00112783908844,-2.72682785987854 l0.03079824149608612,-1.4129820466041565 -0.8501389622688293,-0.9706471115350723 l-11.739354133605957,0.8663880825042725 -4.895190596580505,0.8390313386917114 l-3.2291871309280396,-0.5230510607361794 m9.761875867843628,-1.3316088914871216 l-0.6270262598991394,-3.4173622727394104 -1.0524362325668335,-6.9327473640441895 m5.242977738380432,10.377929210662842 l0.28283989056944847,-3.2555076479911804 2.151145190000534,-6.210537552833557 l1.619451642036438,-2.435279041528702 m-3.592650592327118,13.035862445831299 l2.1886618435382843,-6.376118063926697 1.8851594626903534,-3.1817597150802612 m-4.342678189277649,10.926182270050049 l1.8056198954582214,-5.0088852643966675 1.451725959777832,-2.737869620323181 l1.8784721195697784,-1.893119215965271 m-4.054044485092163,8.968597054481506 l2.0850077271461487,-4.699525833129883 1.7847199738025665,-2.6826831698417664 l1.9725249707698822,-1.5841345489025116 1.7951145768165588,-0.4845137521624565 m-9.100310206413269,8.958345651626587 l0.6418659538030624,-3.162325620651245 1.1118608713150024,-5.756924152374268 l1.1830270290374756,-2.1281491219997406 1.9661884009838104,-2.0893889665603638 m-3.279081881046295,13.984851837158203 l1.1839336156845093,-5.922234654426575 1.4177504181861877,-3.148752450942993 l2.3851358890533447,-3.1170955300331116 m-4.766855239868164,12.279455661773682 l0.879846066236496,-5.413913726806641 1.2847346067428589,-2.6740333437919617 m-3.3131295442581177,9.750202298164368 l1.2511254847049713,-5.792022943496704 1.2580011785030365,-2.5589758157730103 l1.4840301871299744,-1.263737976551056 m-4.14629727602005,9.031925201416016 l1.2048958986997604,-4.498443007469177 1.5499699115753174,-2.4964237213134766 l1.7884549498558044,-1.3989104330539703 1.6828761994838715,-0.33743567764759064 m-8.700193762779236,7.73734986782074 l2.1040092408657074,-3.168577551841736 2.0168809592723846,-1.8765754997730255 l2.0978569984436035,-1.0252700001001358 1.6702917218208313,-0.190782081335783 m-8.35157334804535,6.49918258190155 l0.7772453129291534,-3.2663246989250183 1.3522188365459442,-1.7494633793830872 l1.5280431509017944,-0.7869481295347214 1.5130026638507843,0.04001744091510773 m-6.698462963104248,5.044030547142029 l0.79569973051548,-2.119710296392441 1.8128730356693268,-2.704240083694458 m68.40945187024772,2.7052318304777145 l-0.059883217327296734,-0.1227971538901329 3.7511441111564636,3.5005992650985718 l1.4108221232891083,4.506593644618988 -0.16087403520941734,3.1122517585754395 l-3.6872288584709167,5.993841290473938 -1.8248380720615387,4.3947431445121765 l-0.49298152327537537,3.5013827681541443 0.05969936028122902,3.9128151535987854 l0.7970479875802994,1.6099509596824646 1.9381284713745117,1.573416292667389 l2.222635895013809,0.7898483425378799 6.940582990646362,0.21138520911335945 l4.899130463600159,-1.1168649047613144 4.743449687957764,-2.2405298054218292 l2.2044555842876434,-2.4970778822898865 0.7196429371833801,-2.0645254850387573 l0.20804671570658684,-3.6654016375541687 -0.5054569244384766,-1.7373372614383698 l-2.32772096991539,-3.029327690601349 -3.047703504562378,-2.3453310132026672 l-1.4423252642154694,-2.798665165901184 -0.24831917136907578,-2.4127739667892456 l0.501633882522583,-2.9641708731651306 1.3556218147277832,-2.3800498247146606 l1.6401365399360657,-2.254379093647003 -1.081542819738388,-1.0660745203495026 l-8.620413541793823,0.8554144948720932 -7.163611054420471,0.7600674033164978 l-3.3755749464035034,-0.5275504291057587 m9.130770564079285,-0.55732861161232 l-0.27899129316210747,-3.310566544532776 -1.400284767150879,-8.246455192565918 m4.990800619125366,11.512105464935303 l0.5069559440016747,-3.501960039138794 2.1973030269145966,-6.077004075050354 m-0.311951469630003,9.818694591522217 l2.323697805404663,-7.025383710861206 1.6710187494754791,-3.247327208518982 m-5.928351283073425,11.93195104598999 l1.4252731204032898,-3.9991694688796997 1.8817666172981262,-2.884935140609741 l1.588931381702423,-1.598275601863861 m-3.8907569646835327,8.33638310432434 l-1.1160001158714294,-4.486580491065979 -0.6789205968379974,-2.487765997648239 m-2.341483384370804,6.1090803146362305 l0.043029868975281715,-3.522205650806427 -0.048747751861810684,-1.8384476006031036 l-0.42159080505371094,-4.0207526087760925 m-0.6983817368745804,-0.17799561843276024 l-1.0436245054006577,0.06509899161756039 -0.8322085440158844,-0.4176998883485794 l-0.8897429704666138,-0.48966098576784134 -0.5416524410247803,-0.8748014271259308 l0.34322913736104965,-0.1792730949819088 2.0518937706947327,0.6191617995500565 l1.2169954925775528,0.5075012147426605 0.42722582817077637,0.6482497602701187 l0.030349136795848608,0.5521634221076965 -0.41145119816064835,0.6392963975667953 l-0.3729143738746643,0.2595314383506775 0.27071351185441017,0.739511102437973 l-0.2419932559132576,0.7218863070011139 -1.4968045055866241,0.44308025389909744 l-1.0528583079576492,-0.6940999627113342 -0.34333202987909317,-0.8286906778812408 l0.47493796795606613,-0.25272704660892487 1.1501123011112213,-0.45966438949108124 l0.1019386574625969,0.43587300926446915 -0.78502357006073,0.8655830472707748 l-1.5880301594734192,-0.14324592426419258 -0.363478884100914,-0.7784520089626312 l1.2303834408521652,-0.7256217300891876 0.5979922041296959,-0.515827126801014 l0.3147765249013901,-0.20226690918207169 -0.19246650859713554,-0.02253919141367078 m1.4769667387008667,1.1812599748373032 l1.2900282442569733,-2.114998996257782 1.2416986376047134,-0.8674623072147369 l1.1575999110937119,-0.3668796271085739 0.5984010174870491,0.2243625372648239 l-0.055525172501802444,0.9741800278425217 m67.18570072349394,16.05705980444327 l-0.08554001338779926,-0.13352228328585625 3.588910400867462,3.6101558804512024 l1.3726042211055756,4.381670355796814 -0.10158879682421684,2.7125325798988342 l-4.038123786449432,6.506522297859192 -1.4895710349082947,4.148997962474823 l-0.3803299367427826,4.336035847663879 0.37799637764692307,2.996719777584076 l0.8287697285413742,1.6005466878414154 1.7721255123615265,1.2184759974479675 l2.8188127279281616,0.84284707903862 6.360002756118774,1.0006719827651978 l6.152547597885132,-1.0203476250171661 1.8945205211639404,-1.2458059191703796 l2.352433502674103,-3.0171585083007812 1.5533137321472168,-4.251125454902649 l0.23447584360837936,-2.4314025044441223 -0.5609379708766937,-3.6113646626472473 l-0.7929696887731552,-1.5627385675907135 -2.621043026447296,-2.227705717086792 l-4.5972740650177,-2.9319605231285095 -0.9926186501979828,-1.574833244085312 l-0.049194078892469406,-2.6070091128349304 1.9839267432689667,-4.519647657871246 l0.9118955582380295,-1.430736929178238 0.9850408881902695,-1.113504245877266 l1.1528049409389496,-0.9223548322916031 0.42661093175411224,-0.09174685925245285 m-19.547892808914185,1.0760686546564102 l3.104572594165802,-0.9061799198389053 10.7713782787323,0.10829256847500801 l6.907764673233032,-0.37625789642333984 m-17.116023302078247,1.874115765094757 l7.444613575935364,-0.7094533741474152 6.797149181365967,-0.126905906945467 m-14.710602760314941,2.6985999941825867 l0.605505034327507,-4.134067893028259 0.2272823452949524,-3.0012214183807373 l-0.29409343376755714,-6.586825251579285 -0.13492049649357796,-3.372182250022888 l0.021381955593824387,-1.978449821472168 -0.232048649340868,-3.478632867336273 m7.47494637966156,20.135698318481445 l-0.752461850643158,-2.632744312286377 -0.5864555388689041,-10.666639804840088 l0.7364395260810852,-3.0906081199645996 m0.7750090956687927,17.18991756439209 l0.005443195695988834,-3.4844058752059937 1.2567593157291412,-11.110838651657104 l1.4959503710269928,-3.2400402426719666 m-2.13819220662117,17.852210998535156 l-0.3592502325773239,-6.406571865081787 -0.5690038204193115,-8.93940269947052 l0.025037904269993305,-5.295642614364624 0.3097818046808243,-5.384819507598877 m1.3829654455184937,27.66839027404785 l0.6611031293869019,-10.049341917037964 -0.2099994197487831,-10.566877126693726 m1.0391329228878021,17.506366968154907 l0.5231799185276031,-3.1238344311714172 -0.9951876848936081,-10.932496786117554 l-0.12457359582185745,-2.279742956161499 0.6054271012544632,-2.192012667655945 l2.4606792628765106,-4.363642930984497 0.7026907056570053,-1.4952024817466736 m-4.4259244203567505,22.79796600341797 l0.18965601921081543,-7.527198791503906 0.7351371645927429,-9.515708088874817 l1.2147341668605804,-2.5821644067764282 m1.3171826303005219,22.717301845550537 l0.15234053134918213,-3.586260676383972 1.6722320020198822,-6.423327922821045 l1.6508209705352783,-4.127965271472931 3.1413567066192627,-4.797151982784271 m-5.61198353767395,17.602437734603882 l1.501801759004593,-6.856623291969299 1.6507342457771301,-3.790445625782013 l2.8461551666259766,-2.9472163319587708 3.1368762254714966,-1.5464924275875092 m-10.251848697662354,17.19624161720276 l-1.0231973975896835,-6.917320489883423 -0.5083702877163887,-9.491775035858154 m68.98427319945768,12.520651950035244 l-0.1627340167760849,-0.02504274481907487 3.153950273990631,3.5521388053894043 l1.5676595270633698,3.8108983635902405 -0.5369733273983002,4.242279231548309 l-3.130389153957367,5.463035702705383 -1.7491312325000763,3.922233283519745 l-0.47071706503629684,4.107378423213959 0.00454861467005685,3.1182947754859924 l1.0250887274742126,3.2579809427261353 1.369800865650177,0.9855008125305176 l3.084581196308136,0.7197252660989761 6.753110289573669,0.21472804248332977 l5.091115236282349,-1.5946218371391296 2.259736657142639,-1.4266639947891235 l2.668342888355255,-2.8886711597442627 1.6720445454120636,-3.253515362739563 l0.7647553086280823,-3.7091439962387085 -0.2673845738172531,-1.9658192992210388 l-1.7004619538784027,-3.2879993319511414 -2.0787467062473297,-2.965651750564575 l-4.07006710767746,-3.853728473186493 -0.5273298919200897,-1.7999522387981415 l0.27840547263622284,-2.0274747908115387 4.283178448677063,-3.6618030071258545 l0.8651410788297653,-1.4722587168216705 -2.8801581263542175,-0.04035294987261295 l-9.959670901298523,0.3133198246359825 -5.797402858734131,-0.49237582832574844 m5.357182025909424,-1.402272880077362 l-1.2709249556064606,-3.850588798522949 -0.6907717138528824,-3.8966384530067444 m-0.6127125769853592,-3.026360869407654 l-0.8566389977931976,-0.2241547591984272 -0.4608859494328499,-1.11404649913311 l0.16863830387592316,-1.251767873764038 -0.07033475209027529,-0.5338134989142418 l0.1684046909213066,0.18547751009464264 0.11726627126336098,0.06707096938043833 l0.18648536875844002,0.4059755802154541 -0.39353273808956146,0.8035697042942047 l-0.02175068249925971,0.8190187066793442 0.15349826775491238,0.7145126163959503 l0.1665937528014183,0.37141021341085434 1.0098779946565628,0.42451824992895126 l0.46406202018260956,0.1958121545612812 0.08187135681509972,-0.1748315431177616 l0.04733979236334562,-0.05777014419436455 0.09801596403121948,-0.2713167108595371 l1.8363820016384125,-0.8178597688674927 0.6949000805616379,-0.47499701380729675 l0.1593603938817978,-1.4859385788440704 -0.8800655603408813,-0.5961780250072479 l-2.9465296864509583,0.24395866319537163 -2.5819385051727295,0.979151725769043 m-0.707532986998558,-3.0802923440933228 l1.3485659658908844,-0.9566868096590042 0.9736841171979904,-0.42890913784503937 l1.2642742693424225,0.8123612403869629 0.3183431923389435,1.011473685503006 l-0.47025956213474274,0.6399842351675034 m-3.570851981639862,-0.9314771741628647 l0.04460423719137907,-1.1327778548002243 1.0073136538267136,-1.469668596982956 l1.1158683896064758,-0.13725845143198967 -0.08869564160704613,1.0308795422315598 l-0.41167590767145157,1.6818183660507202 -0.20085379481315613,1.1513272672891617 l-0.7029613852500916,0.8264179527759552 -0.96108578145504,0.564185157418251 l-0.6254406273365021,-0.23007113486528397 -0.13009817339479923,-0.6491284072399139 l0.3698984161019325,-0.017590047791600227 1.109938621520996,0.062352875247597694 l0.9294852614402771,-0.27932995930314064 1.4154089987277985,-0.09351203218102455 l0.6791654229164124,-0.36644045263528824 0.33178143203258514,-0.7546713948249817 l-0.5089996755123138,0.0018020438437815756 -1.8198664486408234,0.8653685450553894 l-1.5450271964073181,-0.2516220137476921 -0.405341200530529,-0.8083286881446838 m-5.040464401245117,0.10080796666443348 m83.33521267864853,14.208327927772189 l-0.14723394997417927,-0.09666387923061848 3.2952988147735596,2.8427478671073914 l2.24340483546257,5.57358980178833 -0.40063999593257904,3.000759482383728 l-2.904112935066223,4.182751774787903 -2.2427628934383392,4.948227405548096 l-0.671895295381546,3.9816907048225403 0.43441276997327805,3.76907080411911 l0.7425671070814133,1.3196341693401337 2.0504963397979736,1.590934544801712 l2.0066915452480316,0.8257824182510376 4.177927076816559,0.3535792604088783 l9.429883360862732,-1.0074255615472794 1.9133920967578888,-1.0259920358657837 l3.080686032772064,-2.9760563373565674 1.9676868617534637,-4.497807323932648 l0.06229323334991932,-1.7855127155780792 -0.23818165063858032,-1.60862535238266 l-5.4523420333862305,-3.059719502925873 -2.1899397671222687,-2.3383115231990814 l-1.1093764752149582,-2.3181620240211487 -0.5503290519118309,-2.6218846440315247 l0.19689548760652542,-3.291758894920349 2.4601350724697113,-4.48040246963501 l-0.3647889941930771,-1.7366623878479004 -0.664665475487709,-1.7783507704734802 l-1.6974051296710968,-0.775531455874443 -14.1347074508667,0.923774316906929 l-3.9782896637916565,0.5133340135216713 m15.281038284301758,-2.256103754043579 l-0.5765207856893539,-3.4680429100990295 m-3.0385738611221313,7.151339650154114 l1.7298586666584015,-4.148987531661987 0.9745220094919205,-2.0636019110679626 l1.440253108739853,-6.394123435020447 m-1.0424628108739853,11.234437227249146 l-0.32974276691675186,-2.405734956264496 0.7253878563642502,-3.313368856906891 l0.8163987100124359,-1.6901427507400513 1.3250431418418884,-1.2865519523620605 m-4.190536737442017,14.413834810256958 l3.422601819038391,-6.398664712905884 1.4211075007915497,-2.5982415676116943 l2.1839869022369385,-3.086101710796356 m-5.422198176383972,14.401905536651611 l3.807327151298523,-8.571599125862122 3.7715619802474976,-7.547265291213989 m-8.158208727836609,14.369535446166992 l-2.531481385231018,-0.0988377071917057 -1.8574067950248718,-2.2858598828315735 l-2.065936326980591,-3.646659553050995 -1.753370314836502,-2.1619178354740143 m5.208026766777039,6.1573368310928345 l0.15324419364333153,-3.335273861885071 1.3145242631435394,-1.8507316708564758 l2.340817451477051,-5.228259563446045 2.8403156995773315,-3.429962396621704 l1.4875072240829468,-0.7972390204668045 2.3822201788425446,-0.5069829523563385 m-8.752999305725098,13.874654769897461 l2.802935838699341,-3.577447533607483 2.1348828077316284,-1.290300190448761 m-8.021234273910522,5.445055365562439 l0.07549137808382511,-1.5302975475788116 0.8853385597467422,-2.6103636622428894 m-3.0848154425621033,-0.9642420709133148 l-0.5533820018172264,1.2455731630325317 0.003772370982915163,0.5834605917334557 l0.7879631221294403,0.7680635154247284 3.2727816700935364,-0.5749247223138809 l1.0109181702136993,-1.1191004514694214 -0.25508323684334755,-1.8435350060462952 l-0.6543315201997757,-1.0514497011899948 -2.584063410758972,-0.8269032090902328 l-5.724761486053467,0.04665411543101072 -1.3702702522277832,-0.06715727504342794 l-1.0215974599123,0.93546561896801 -1.0812662541866302,0.3128035366535187 l-0.31067585572600365,1.306033581495285 0.6954161077737808,0.2904067747294903 l1.7112934589385986,0.05467688664793968 0.8551040291786194,0.4226522520184517 m78.87529287603684,3.5794052854180336 l0.0013958940689917654,-0.08371591567993164 2.7926766872406006,3.7677159905433655 l1.3129986822605133,3.0846789479255676 0.16524840146303177,3.9021459221839905 l-2.987246513366699,6.165295839309692 -1.356855183839798,2.6843369007110596 l-2.3329272866249084,4.124239981174469 -0.004448355175554752,4.595005512237549 l0.5371945351362228,1.0989484190940857 1.9122447073459625,2.1770602464675903 l4.537740051746368,1.663910150527954 5.408084988594055,-0.31777456402778625 l3.4201866388320923,-1.0233524441719055 2.3216280341148376,-1.1219583451747894 l3.8306140899658203,-2.9776105284690857 1.130363792181015,-1.8093198537826538 l1.969660371541977,-6.973029971122742 0.15659218654036522,-3.0218514800071716 l-1.5708956122398376,-2.756905257701874 -1.1351510882377625,-0.7630758732557297 l-4.826465845108032,-2.1622636914253235 -0.5706531181931496,-1.5938486158847809 l0.048259091563522816,-3.8352906703948975 0.8293329924345016,-1.1645619571208954 l3.594936728477478,-2.3854072391986847 0.3476196900010109,-0.7209023088216782 l-2.8844165802001953,-0.5394533276557922 -8.368430137634277,-0.6005622819066048 l-8.03470253944397,1.301610916852951 m9.876293540000916,-1.535068303346634 l-2.1295328438282013,-4.435773491859436 m-1.1036024987697601,3.1350067257881165 l-0.6604790687561035,-0.29005806893110275 m6.4686137437820435,-1.81268110871315 l-0.029075955972075462,1.3090591132640839 -0.3176539018750191,0.8875285089015961 m-1.445586234331131,-2.600333094596863 l-1.408812701702118,1.610015630722046 -0.41401974856853485,1.6040755808353424 l1.7392219603061676,-0.3282129392027855 0.5554058030247688,-1.5282431244850159 l0.7641267031431198,-1.3782909512519836 -1.1256937682628632,-0.5032725259661674 l-3.2242965698242188,0.32973188906908035 m-1.1105944961309433,0.4774075374007225 l-1.1452317982912064,0.816861093044281 -1.8146425485610962,1.863393485546112 l0.1973186619579792,2.045646607875824 1.210232675075531,1.0138392448425293 l4.476977586746216,-1.7254576086997986 1.2925644218921661,0.43281998485326767 l0.6449003517627716,-0.18237853422760963 -0.39454083889722824,-1.0905047506093979 l-1.4299675822257996,-1.4259877800941467 -3.2569223642349243,-1.1017629504203796 l-1.4113110303878784,-0.3709043562412262 m5.919815301895142,4.421790838241577 l-1.1045537889003754,0.15690866857767105 -0.27380192652344704,-0.7458427548408508 l0.8251658082008362,-3.1099122762680054 0.5070213600993156,-1.2717032432556152 l0.509103536605835,-0.8548262715339661 m8.614553213119507,9.941521286964417 l3.235771358013153,-3.327687680721283 2.588983178138733,-2.6690632104873657 m-6.596752405166626,6.57856285572052 l0.5631687864661217,-6.714428067207336 3.1298217177391052,-8.971970081329346 l-0.7968119531869888,0.5020320415496826 m1.5639497339725494,-0.15000257641077042 l-2.0381340384483337,-0.20610151812434196 -0.7644642144441605,-1.5029174089431763 l-0.8590485155582428,-2.2919924557209015 m-0.3693469986319542,4.9926793575286865 l0.10112193413078785,-1.1162247508764267 0.8644024282693863,-1.868104338645935 l2.135246992111206,-2.1116094291210175 1.8336890637874603,-1.0182789713144302 l1.4637771248817444,-0.19613897427916527 0.6048271432518959,0.28196971863508224 l0.23051027208566666,1.4160259068012238 -0.2873392589390278,1.1777973920106888 m54.98815053855651,11.927203178638592 l-0.4198864847421646,-0.08552992716431618 3.447306752204895,3.4269651770591736 l1.763024628162384,2.6250940561294556 -0.8891937136650085,6.6999757289886475 l-2.6337161660194397,2.8940996527671814 -3.435177803039551,3.030000925064087 l-0.4364452138543129,2.910681962966919 0.8895783871412277,6.97805643081665 l1.0728446394205093,1.5348528325557709 1.5603256225585938,0.8950066566467285 l2.6242077350616455,0.6206811219453812 5.880991816520691,-0.07628710474818945 l3.4819579124450684,-0.8323051780462265 3.3868980407714844,-1.7936676740646362 l5.358955264091492,-4.3295687437057495 1.1164534091949463,-2.01057568192482 l0.2463262714445591,-1.929924637079239 -0.4036460816860199,-2.879548668861389 l-1.7701958119869232,-4.133100807666779 -2.124054580926895,-2.822033166885376 l-3.012302815914154,-3.121931552886963 -0.6814451515674591,-2.2613097727298737 l1.124478504061699,-3.233126699924469 3.5276028513908386,-2.518475651741028 l0.9387530386447906,-1.2655936181545258 -1.458970159292221,-1.463889628648758 l-8.167309761047363,2.0991966128349304 -2.596489191055298,0.09732985869050026 l-8.53709101676941,0.1363795343786478 m7.40905225276947,3.028005361557007 l0.44226884841918945,-3.806598484516144 m1.7168951034545898,-1.8095806241035461 l-0.0008454179624095559,0.6040024384856224 m1.9773958623409271,0.3078867495059967 l-0.8239034563302994,-0.48641957342624664 m0.21038206294178963,-2.2695422172546387 l0.8548920601606369,-1.1072304844856262 2.146458923816681,-1.2629066407680511 m-6.370197534561157,4.162463843822479 l1.0351070016622543,3.9058727025985718 1.543181836605072,1.3078176975250244 l1.2051250040531158,-0.666162446141243 m-3.8396412134170532,-7.04011857509613 l2.2523075342178345,-3.337104916572571 1.2663622200489044,-0.8053984493017197 l0.3081955574452877,0.30687732622027397 -1.6514527797698975,2.6378971338272095 l-0.18087798729538918,0.6155778095126152 3.9703261852264404,1.3577191531658173 l1.1906655132770538,-1.8798398971557617 -0.36609672009944916,-1.6590113937854767 l-0.8120763301849365,-1.5574316680431366 -2.0096836984157562,-0.32330598682165146 l-1.7124663293361664,0.03713559592142701 -0.986282005906105,0.6930674612522125 m-0.22457486018538475,2.746816575527191 l-0.8878503739833832,-0.04955152980983257 -0.7061553001403809,0.2101275511085987 l0.1320810429751873,0.32575823366642 3.3739033341407776,-0.2978477254509926 l0.827082172036171,-1.442011296749115 -1.7762050032615662,-0.6051663681864738 m1.5491817891597748,-3.3903437852859497 l1.3699933886528015,1.3330501317977905 1.5699267387390137,1.4186546206474304 l-0.10091525502502918,1.6973292827606201 -0.7323639839887619,0.832187682390213 l-0.7347447425127029,-0.024366502184420824 3.6662158370018005,0.8762996643781662 l-1.6280573606491089,-0.517164021730423 -1.414705067873001,2.606324553489685 l-1.9597238302230835,0.4022334888577461 -2.33606219291687,-0.36003969609737396 l-0.8296232670545578,-1.590927392244339 m-5.631495118141174,5.375598669052124 l2.3991385102272034,1.6719882190227509 3.5645729303359985,-1.1609846353530884 l0.48722364008426666,-3.29096257686615 -0.5114469304680824,-3.339645266532898 l-2.766571044921875,-4.155455231666565 -2.854298949241638,0.8041010051965714 m3.529004156589508,5.213642716407776 m73.62274140294176,9.916095847729594 l-0.19750867038965225,0.2841910161077976 3.033694326877594,2.7824634313583374 l2.561858892440796,4.372901916503906 0.08590147830545902,3.491135835647583 l-2.7172648906707764,4.688467979431152 -3.3622318506240845,4.602881073951721 l-1.1002732813358307,3.521134853363037 0.5452179536223412,5.529639720916748 l0.6895016133785248,1.5300409495830536 1.4155475795269012,1.5936604142189026 l3.043833374977112,0.7361716032028198 2.960027754306793,0.21693091839551926 l3.2124122977256775,-0.010215796064585447 6.664312481880188,-2.151493728160858 l5.133154988288879,-4.389642775058746 1.311730444431305,-2.5769230723381042 l0.020738074090331793,-2.845175862312317 -1.5661266446113586,-3.0209150910377502 l-1.3723483681678772,-1.9126240909099579 -1.1280960589647293,-1.0478337109088898 l-1.9461798667907715,-1.191936880350113 -0.8958681672811508,-4.278005659580231 l-1.0384653508663177,-5.071391463279724 0.18088651821017265,-4.518773853778839 l0.7621637731790543,-1.3460227847099304 1.4940693974494934,-0.5239826813340187 l0.8303340524435043,0.3206164389848709 -6.867212653160095,0.2762787230312824 m-0.8829131722450256,-0.34370895475149155 l0.4865742102265358,-3.5283365845680237 5.810697674751282,-8.27479362487793 m4.58823561668396,-5.1370203495025635 l-0.24788117036223412,-0.005025179125368595 -2.6019060611724854,2.0381291210651398 m-3.3352425694465637,3.9566221833229065 l-0.826055034995079,-6.942541003227234 m0.834503248333931,4.538767039775848 l-2.1040749549865723,0.8670720458030701 -2.4391983449459076,-0.2844477444887161 l-4.176050424575806,-2.7308017015457153 -0.968334898352623,-1.2809070944786072 l-1.1331570893526077,-1.1523320525884628 m0.43556012213230133,-0.7118827849626541 l-0.45480042695999146,-1.018180400133133 -1.284613460302353,-0.48438921570777893 l-1.6400404274463654,-0.4666479676961899 -1.432178020477295,0.7327496260404587 l1.8558034300804138,-0.06507300306111574 1.6954413056373596,-0.22045955061912537 l1.1885258555412292,0.5867886915802956 2.579042613506317,2.359415888786316 l3.0512583255767822,0.3597850725054741 1.3399344682693481,0.29532279819250107 l0.5014992505311966,-0.21147703751921654 -0.3398141637444496,-0.08856987580657005 l-1.1197556555271149,0.07919591851532459 m-6.123749613761902,1.930692046880722 l0.22766919806599617,-1.160084754228592 0.3744172677397728,-6.838558912277222 l-0.579768568277359,0.5776206776499748 -0.2192274108529091,-0.3793647140264511 l-0.9127421677112579,0.05562680773437023 0.013624831335619092,-0.036392174661159515 l1.028251200914383,0.4702746123075485 1.659075915813446,0.2463969960808754 l3.1930214166641235,0.6277824193239212 -0.12618276290595531,-0.08437149226665497 l-2.464115172624588,3.0146485567092896 -1.36997789144516,1.4258475601673126 l0.017897175857797265,-0.09853232651948929 0.3228810429573059,-2.457907646894455 m-7.811160683631897,8.84989619255066 l2.9404672980308533,-1.3144400715827942 0.7216725498437881,-0.9363353252410889 l0.1741546392440796,-1.2799088656902313 -3.1750601530075073,-2.7034208178520203 l-0.4689040035009384,0.7539219409227371 0.15362726524472237,1.7350177466869354 l0.1309116743505001,-0.4815265163779259 1.664651483297348,-2.264198213815689 m-0.44705338776111603,-1.689998060464859 l-1.5198273956775665,0.6201958283782005 m87.01728873653337,27.833490985212848 l0.029068998992443085,-0.3080185130238533 2.2871319949626923,2.845022678375244 l2.2408272325992584,6.236909031867981 -0.39451275020837784,2.0686934888362885 l-3.0143287777900696,5.192984342575073 -2.306298613548279,5.269294381141663 l-1.0207997262477875,4.832630753517151 0.42310770601034164,2.1970118582248688 l1.905883401632309,2.675458788871765 1.4942124485969543,0.9460186213254929 l2.833886444568634,0.3907524049282074 7.391660809516907,0.16905497759580612 l5.091952681541443,-2.0374080538749695 2.9331794381141663,-2.0754702389240265 l2.3048029839992523,-2.930271029472351 0.9270630776882172,-3.8528913259506226 l-0.4547671601176262,-1.659771054983139 -2.8037723898887634,-4.7219517827034 l-3.0807816982269287,-1.8657071888446808 -3.3521708846092224,-4.030610024929047 l-0.49828507006168365,-2.480379492044449 0.35883016884326935,-0.854431763291359 l5.435230135917664,-3.152388036251068 0.264064185321331,-2.1744541823863983 l-9.517830610275269,-2.629455327987671 -2.9885464906692505,0.09249326772987843 l-4.851124882698059,0.7752168923616409 -1.4633475244045258,0.850217193365097 l0.4512929916381836,0.8731793612241745 m14.239845275878906,7.905983924865723 l-1.1522416025400162,-1.9358669221401215 m-5.065479278564453,-0.9453246742486954 m0.06872444413602352,-2.344183027744293 l-1.3693174719810486,-11.229919195175171 m3.2037872076034546,13.23526382446289 l0.6237522140145302,-2.39484503865242 2.394343912601471,-3.4353667497634888 m-3.7358415126800537,-0.14315334148705006 l0.8311650902032852,-3.917234241962433 0.728454515337944,2.7773460745811462 m-0.7195704430341721,-15.075596570968628 l-1.114230826497078,2.580656409263611 2.350243777036667,4.223596751689911 l2.896200120449066,3.5628846287727356 -3.2440000772476196,-2.2126123309135437 l-1.9343061745166779,-1.7140112817287445 -0.8386611193418503,-2.2413836419582367 m-1.6096793115139008,-4.603281319141388 l-1.7771302163600922,0.6071857362985611 -1.1935518682003021,1.540328711271286 l-0.42787976562976837,2.7817410230636597 2.3287521302700043,0.4749676585197449 l1.1705189943313599,-0.4843626916408539 0.8089660853147507,-2.1514402329921722 l0.03571395995095372,0.16464609652757645 -0.9405747056007385,0.28671780601143837 m-1.0832151770591736,-0.3605113551020622 l-0.38630351424217224,-0.6462676078081131 -0.157089214771986,-2.658745050430298 l1.9482389092445374,-2.428497076034546 2.1058563888072968,-1.4360973238945007 l1.953294426202774,-0.589713454246521 m-5.991030931472778,8.02848756313324 l-2.971017062664032,-7.260308861732483 -2.103070616722107,-4.26980048418045 l-0.6822788715362549,-3.02586168050766 -0.40791038423776627,-3.0249175429344177 l-0.2447107434272766,-5.280526876449585 m-0.3141946345567703,0.7003418356180191 l0.16983728855848312,-0.4701061174273491 -0.35079605877399445,0.4895912855863571 l-0.6770862638950348,-0.1353625487536192 -0.11451175436377525,-2.437370717525482 l-0.23370075970888138,-1.5779541432857513 0.8090313524007797,-0.7509876787662506 l-0.9300814568996429,0.5600924417376518 -3.238862454891205,1.9787755608558655 l-0.8149538189172745,0.47426383942365646 -0.022178860381245613,-1.3265158236026764 m0.07356420159339905,0.4688606411218643 l-1.8001878261566162,0.13122129254043102 -3.9025509357452393,-1.0792530328035355 \" fill=\"none\" stroke=\"black\" stroke-width=\"1\"/></svg>"
      ],
      "text/plain": [
       "<IPython.core.display.SVG object>"
      ]
     },
     "metadata": {},
     "output_type": "display_data"
    },
    {
     "data": {
      "image/svg+xml": [
       "<svg baseProfile=\"full\" height=\"123.69595323689282\" version=\"1.1\" width=\"827.6836263237055\" xmlns=\"http://www.w3.org/2000/svg\" xmlns:ev=\"http://www.w3.org/2001/xml-events\" xmlns:xlink=\"http://www.w3.org/1999/xlink\"><defs/><rect fill=\"white\" height=\"123.69595323689282\" width=\"827.6836263237055\" x=\"0\" y=\"0\"/><path d=\"M25,37.15599513147026 m0.0,0.0 m29.51341620646417,11.602175934240222 l-0.13947084546089172,-0.11269137263298035 3.2625091075897217,3.4444350004196167 l1.5632541477680206,3.61076682806015 -0.7053852826356888,5.044845938682556 l-2.6267197728157043,4.250727891921997 -2.508212625980377,4.47045773267746 l-0.6176647543907166,3.6499518156051636 0.2021721936762333,4.152971804141998 l0.9668692201375961,1.7683780193328857 1.7444556951522827,1.309496909379959 l2.585515081882477,0.8420475572347641 7.435359358787537,0.21294092759490013 l3.0844366550445557,-0.759507566690445 4.176640808582306,-2.152177542448044 l1.7066505551338196,-1.6998030245304108 1.6349610686302185,-3.2608750462532043 l0.7005453109741211,-4.13305401802063 -0.22256886586546898,-2.106848508119583 l-1.8119323253631592,-3.4519201517105103 -4.939698278903961,-3.004261553287506 l-1.4529125392436981,-2.153421938419342 -0.36934085190296173,-2.0792192220687866 l0.4476451501250267,-2.4305562674999237 1.4384883642196655,-2.2444042563438416 l0.7620961964130402,-1.4089089632034302 1.4750093221664429,-1.2810774147510529 l1.5657378733158112,-0.955762192606926 -0.3642745316028595,-0.37801843136548996 l-14.779359102249146,0.7228236645460129 m-1.058625504374504,-0.13937726616859436 l1.0686691850423813,-0.4734993726015091 m4.951327741146088,0.4794417694211006 l-0.33285725861787796,-2.5109031796455383 m1.2900735437870026,1.5225164592266083 l-0.6504261493682861,-0.37273332476615906 m1.432480663061142,-0.2919503301382065 l-0.5925736576318741,-0.9193320572376251 m0.006803513970226049,0.2649177797138691 l-0.6866120547056198,0.16637522727251053 -0.2659640274941921,-0.40695108473300934 l0.1653202436864376,-0.756974071264267 0.42365387082099915,-0.5000532418489456 l0.7169521600008011,-0.3191046416759491 0.6334993988275528,0.04196939989924431 l0.23115249350667,0.5791071057319641 -0.06489848718047142,0.6509450078010559 l-0.2741495706140995,0.5348527804017067 0.2454925887286663,0.38857314735651016 l-0.22208197042346,0.5102147907018661 -0.8157099038362503,0.5974224209785461 l-0.6277424097061157,0.26485102251172066 -0.5944560840725899,0.3918631374835968 l-0.6906430423259735,-0.3491993620991707 -0.6095502153038979,-1.0447435081005096 l-0.39485905319452286,-1.0967808961868286 0.10166395455598831,-0.5752465128898621 l0.5746703594923019,-0.33806130290031433 0.4353902116417885,-0.7357978820800781 l0.44128838926553726,-0.6440170109272003 0.6996769458055496,-0.6383106112480164 l1.1620843410491943,-0.22141467779874802 0.5288756266236305,0.9117233753204346 l-0.051113166846334934,0.9919882565736771 -0.5633680149912834,0.8414815366268158 l-0.7851529121398926,0.5670742318034172 -0.4182099923491478,0.5059622228145599 l-0.6656336039304733,0.7010512053966522 -1.1739377677440643,0.5126500129699707 l-0.9515886008739471,-0.3725156933069229 -0.4999011382460594,-1.0783898085355759 l0.3171997517347336,-0.1710079237818718 0.6575952470302582,-0.35381413996219635 l0.3765888884663582,-0.6047442927956581 0.28186891227960587,-0.48804305493831635 l0.7060088962316513,-0.6143154576420784 0.5677046626806259,-0.3775651752948761 l0.8624354749917984,-0.18091216683387756 1.0541903227567673,-0.2061973139643669 l0.28349360451102257,0.8956155180931091 -0.3316803649067879,0.9887337684631348 l-0.5516639351844788,0.5547918751835823 -0.2620980888605118,0.601702518761158 m69.46835594484583,6.1324280221015215 l-0.16045862808823586,-0.14546388760209084 3.212665319442749,3.447082042694092 l1.5916472673416138,3.7570184469223022 0.014469926245510578,3.5912466049194336 l-3.3794820308685303,6.1910682916641235 -2.385331243276596,3.823748528957367 l-0.6290694326162338,3.0824610590934753 0.23196028545498848,4.406037330627441 l0.9398137032985687,1.8190327286720276 1.5538686513900757,1.3396672904491425 l2.291615903377533,0.8462956547737122 7.31144905090332,0.23839881643652916 l3.535585403442383,-0.8672381937503815 3.838084042072296,-1.9833828508853912 l2.890489399433136,-2.541990578174591 1.6479045152664185,-3.031947612762451 l0.3549444302916527,-2.195553034543991 -0.40991321206092834,-3.3661118149757385 l-1.525234878063202,-3.1887152791023254 -1.4793586730957031,-2.439362406730652 l-2.7024656534194946,-3.1946980953216553 -0.5698840320110321,-2.2422567009925842 l0.6371212750673294,-3.4712743759155273 3.00112783908844,-2.72682785987854 l0.03079824149608612,-1.4129820466041565 -0.8501389622688293,-0.9706471115350723 l-11.739354133605957,0.8663880825042725 -4.895190596580505,0.8390313386917114 l-3.2291871309280396,-0.5230510607361794 m9.761875867843628,-1.3316088914871216 l-0.6270262598991394,-3.4173622727394104 -1.0524362325668335,-6.9327473640441895 m5.242977738380432,10.377929210662842 l0.28283989056944847,-3.2555076479911804 2.151145190000534,-6.210537552833557 l1.619451642036438,-2.435279041528702 m-3.592650592327118,13.035862445831299 l2.1886618435382843,-6.376118063926697 1.8851594626903534,-3.1817597150802612 m-4.342678189277649,10.926182270050049 l1.8056198954582214,-5.0088852643966675 1.451725959777832,-2.737869620323181 l1.8784721195697784,-1.893119215965271 m-4.054044485092163,8.968597054481506 l2.0850077271461487,-4.699525833129883 1.7847199738025665,-2.6826831698417664 l1.9725249707698822,-1.5841345489025116 1.7951145768165588,-0.4845137521624565 m-9.100310206413269,8.958345651626587 l0.6418659538030624,-3.162325620651245 1.1118608713150024,-5.756924152374268 l1.1830270290374756,-2.1281491219997406 1.9661884009838104,-2.0893889665603638 m-3.279081881046295,13.984851837158203 l1.1839336156845093,-5.922234654426575 1.4177504181861877,-3.148752450942993 l2.3851358890533447,-3.1170955300331116 m-4.766855239868164,12.279455661773682 l0.879846066236496,-5.413913726806641 1.2847346067428589,-2.6740333437919617 m-3.3131295442581177,9.750202298164368 l1.2511254847049713,-5.792022943496704 1.2580011785030365,-2.5589758157730103 l1.4840301871299744,-1.263737976551056 m-4.14629727602005,9.031925201416016 l1.2048958986997604,-4.498443007469177 1.5499699115753174,-2.4964237213134766 l1.7884549498558044,-1.3989104330539703 1.6828761994838715,-0.33743567764759064 m-8.700193762779236,7.73734986782074 l2.1040092408657074,-3.168577551841736 2.0168809592723846,-1.8765754997730255 l2.0978569984436035,-1.0252700001001358 1.6702917218208313,-0.190782081335783 m-8.35157334804535,6.49918258190155 l0.7772453129291534,-3.2663246989250183 1.3522188365459442,-1.7494633793830872 l1.5280431509017944,-0.7869481295347214 1.5130026638507843,0.04001744091510773 m-6.698462963104248,5.044030547142029 l0.79569973051548,-2.119710296392441 1.8128730356693268,-2.704240083694458 m68.40945187024772,2.7052318304777145 l-0.059883217327296734,-0.1227971538901329 3.7511441111564636,3.5005992650985718 l1.4108221232891083,4.506593644618988 -0.16087403520941734,3.1122517585754395 l-3.6872288584709167,5.993841290473938 -1.8248380720615387,4.3947431445121765 l-0.49298152327537537,3.5013827681541443 0.05969936028122902,3.9128151535987854 l0.7970479875802994,1.6099509596824646 1.9381284713745117,1.573416292667389 l2.222635895013809,0.7898483425378799 6.940582990646362,0.21138520911335945 l4.899130463600159,-1.1168649047613144 4.743449687957764,-2.2405298054218292 l2.2044555842876434,-2.4970778822898865 0.7196429371833801,-2.0645254850387573 l0.20804671570658684,-3.6654016375541687 -0.5054569244384766,-1.7373372614383698 l-2.32772096991539,-3.029327690601349 -3.047703504562378,-2.3453310132026672 l-1.4423252642154694,-2.798665165901184 -0.24831917136907578,-2.4127739667892456 l0.501633882522583,-2.9641708731651306 1.3556218147277832,-2.3800498247146606 l1.6401365399360657,-2.254379093647003 -1.081542819738388,-1.0660745203495026 l-8.620413541793823,0.8554144948720932 -7.163611054420471,0.7600674033164978 l-3.3755749464035034,-0.5275504291057587 m9.130770564079285,-0.55732861161232 l-0.27899129316210747,-3.310566544532776 -1.400284767150879,-8.246455192565918 m4.990800619125366,11.512105464935303 l0.5069559440016747,-3.501960039138794 2.1973030269145966,-6.077004075050354 m-0.311951469630003,9.818694591522217 l2.323697805404663,-7.025383710861206 1.6710187494754791,-3.247327208518982 m-5.928351283073425,11.93195104598999 l1.4252731204032898,-3.9991694688796997 1.8817666172981262,-2.884935140609741 l1.588931381702423,-1.598275601863861 m-3.8907569646835327,8.33638310432434 l-1.1160001158714294,-4.486580491065979 -0.6789205968379974,-2.487765997648239 m-2.341483384370804,6.1090803146362305 l0.043029868975281715,-3.522205650806427 -0.048747751861810684,-1.8384476006031036 l-0.42159080505371094,-4.0207526087760925 m-0.6983817368745804,-0.17799561843276024 l-1.0436245054006577,0.06509899161756039 -0.8322085440158844,-0.4176998883485794 l-0.8897429704666138,-0.48966098576784134 -0.5416524410247803,-0.8748014271259308 l0.34322913736104965,-0.1792730949819088 2.0518937706947327,0.6191617995500565 l1.2169954925775528,0.5075012147426605 0.42722582817077637,0.6482497602701187 l0.030349136795848608,0.5521634221076965 -0.41145119816064835,0.6392963975667953 l-0.3729143738746643,0.2595314383506775 0.27071351185441017,0.739511102437973 l-0.2419932559132576,0.7218863070011139 -1.4968045055866241,0.44308025389909744 l-1.0528583079576492,-0.6940999627113342 -0.34333202987909317,-0.8286906778812408 l0.47493796795606613,-0.25272704660892487 1.1501123011112213,-0.45966438949108124 l0.1019386574625969,0.43587300926446915 -0.78502357006073,0.8655830472707748 l-1.5880301594734192,-0.14324592426419258 -0.363478884100914,-0.7784520089626312 l1.2303834408521652,-0.7256217300891876 0.5979922041296959,-0.515827126801014 l0.3147765249013901,-0.20226690918207169 -0.19246650859713554,-0.02253919141367078 m1.4769667387008667,1.1812599748373032 l1.2900282442569733,-2.114998996257782 1.2416986376047134,-0.8674623072147369 l1.1575999110937119,-0.3668796271085739 0.5984010174870491,0.2243625372648239 l-0.055525172501802444,0.9741800278425217 m67.18570072349394,16.05705980444327 l-0.08554001338779926,-0.13352228328585625 3.588910400867462,3.6101558804512024 l1.3726042211055756,4.381670355796814 -0.10158879682421684,2.7125325798988342 l-4.038123786449432,6.506522297859192 -1.4895710349082947,4.148997962474823 l-0.3803299367427826,4.336035847663879 0.37799637764692307,2.996719777584076 l0.8287697285413742,1.6005466878414154 1.7721255123615265,1.2184759974479675 l2.8188127279281616,0.84284707903862 6.360002756118774,1.0006719827651978 l6.152547597885132,-1.0203476250171661 1.8945205211639404,-1.2458059191703796 l2.352433502674103,-3.0171585083007812 1.5533137321472168,-4.251125454902649 l0.23447584360837936,-2.4314025044441223 -0.5609379708766937,-3.6113646626472473 l-0.7929696887731552,-1.5627385675907135 -2.621043026447296,-2.227705717086792 l-4.5972740650177,-2.9319605231285095 -0.9926186501979828,-1.574833244085312 l-0.049194078892469406,-2.6070091128349304 1.9839267432689667,-4.519647657871246 l0.9118955582380295,-1.430736929178238 0.9850408881902695,-1.113504245877266 l1.1528049409389496,-0.9223548322916031 0.42661093175411224,-0.09174685925245285 m-19.547892808914185,1.0760686546564102 l3.104572594165802,-0.9061799198389053 10.7713782787323,0.10829256847500801 l6.907764673233032,-0.37625789642333984 m-17.116023302078247,1.874115765094757 l7.444613575935364,-0.7094533741474152 6.797149181365967,-0.126905906945467 m-14.710602760314941,2.6985999941825867 l0.605505034327507,-4.134067893028259 0.2272823452949524,-3.0012214183807373 l-0.29409343376755714,-6.586825251579285 -0.13492049649357796,-3.372182250022888 l0.021381955593824387,-1.978449821472168 -0.232048649340868,-3.478632867336273 m7.47494637966156,20.135698318481445 l-0.752461850643158,-2.632744312286377 -0.5864555388689041,-10.666639804840088 l0.7364395260810852,-3.0906081199645996 m0.7750090956687927,17.18991756439209 l0.005443195695988834,-3.4844058752059937 1.2567593157291412,-11.110838651657104 l1.4959503710269928,-3.2400402426719666 m-2.13819220662117,17.852210998535156 l-0.3592502325773239,-6.406571865081787 -0.5690038204193115,-8.93940269947052 l0.025037904269993305,-5.295642614364624 0.3097818046808243,-5.384819507598877 m1.3829654455184937,27.66839027404785 l0.6611031293869019,-10.049341917037964 -0.2099994197487831,-10.566877126693726 m1.0391329228878021,17.506366968154907 l0.5231799185276031,-3.1238344311714172 -0.9951876848936081,-10.932496786117554 l-0.12457359582185745,-2.279742956161499 0.6054271012544632,-2.192012667655945 l2.4606792628765106,-4.363642930984497 0.7026907056570053,-1.4952024817466736 m-4.4259244203567505,22.79796600341797 l0.18965601921081543,-7.527198791503906 0.7351371645927429,-9.515708088874817 l1.2147341668605804,-2.5821644067764282 m1.3171826303005219,22.717301845550537 l0.15234053134918213,-3.586260676383972 1.6722320020198822,-6.423327922821045 l1.6508209705352783,-4.127965271472931 3.1413567066192627,-4.797151982784271 m-5.61198353767395,17.602437734603882 l1.501801759004593,-6.856623291969299 1.6507342457771301,-3.790445625782013 l2.8461551666259766,-2.9472163319587708 3.1368762254714966,-1.5464924275875092 m-10.251848697662354,17.19624161720276 l-1.0231973975896835,-6.917320489883423 -0.5083702877163887,-9.491775035858154 m68.98427319945768,12.520651950035244 l-0.1627340167760849,-0.02504274481907487 3.153950273990631,3.5521388053894043 l1.5676595270633698,3.8108983635902405 -0.5369733273983002,4.242279231548309 l-3.130389153957367,5.463035702705383 -1.7491312325000763,3.922233283519745 l-0.47071706503629684,4.107378423213959 0.00454861467005685,3.1182947754859924 l1.0250887274742126,3.2579809427261353 1.369800865650177,0.9855008125305176 l3.084581196308136,0.7197252660989761 6.753110289573669,0.21472804248332977 l5.091115236282349,-1.5946218371391296 2.259736657142639,-1.4266639947891235 l2.668342888355255,-2.8886711597442627 1.6720445454120636,-3.253515362739563 l0.7647553086280823,-3.7091439962387085 -0.2673845738172531,-1.9658192992210388 l-1.7004619538784027,-3.2879993319511414 -2.0787467062473297,-2.965651750564575 l-4.07006710767746,-3.853728473186493 -0.5273298919200897,-1.7999522387981415 l0.27840547263622284,-2.0274747908115387 4.283178448677063,-3.6618030071258545 l0.8651410788297653,-1.4722587168216705 -2.8801581263542175,-0.04035294987261295 l-9.959670901298523,0.3133198246359825 -5.797402858734131,-0.49237582832574844 m5.357182025909424,-1.402272880077362 l-1.2709249556064606,-3.850588798522949 -0.6907717138528824,-3.8966384530067444 m-0.6127125769853592,-3.026360869407654 l-0.8566389977931976,-0.2241547591984272 -0.4608859494328499,-1.11404649913311 l0.16863830387592316,-1.251767873764038 -0.07033475209027529,-0.5338134989142418 l0.1684046909213066,0.18547751009464264 0.11726627126336098,0.06707096938043833 l0.18648536875844002,0.4059755802154541 -0.39353273808956146,0.8035697042942047 l-0.02175068249925971,0.8190187066793442 0.15349826775491238,0.7145126163959503 l0.1665937528014183,0.37141021341085434 1.0098779946565628,0.42451824992895126 l0.46406202018260956,0.1958121545612812 0.08187135681509972,-0.1748315431177616 l0.04733979236334562,-0.05777014419436455 0.09801596403121948,-0.2713167108595371 l1.8363820016384125,-0.8178597688674927 0.6949000805616379,-0.47499701380729675 l0.1593603938817978,-1.4859385788440704 -0.8800655603408813,-0.5961780250072479 l-2.9465296864509583,0.24395866319537163 -2.5819385051727295,0.979151725769043 m-0.707532986998558,-3.0802923440933228 l1.3485659658908844,-0.9566868096590042 0.9736841171979904,-0.42890913784503937 l1.2642742693424225,0.8123612403869629 0.3183431923389435,1.011473685503006 l-0.47025956213474274,0.6399842351675034 m-3.570851981639862,-0.9314771741628647 l0.04460423719137907,-1.1327778548002243 1.0073136538267136,-1.469668596982956 l1.1158683896064758,-0.13725845143198967 -0.08869564160704613,1.0308795422315598 l-0.41167590767145157,1.6818183660507202 -0.20085379481315613,1.1513272672891617 l-0.7029613852500916,0.8264179527759552 -0.96108578145504,0.564185157418251 l-0.6254406273365021,-0.23007113486528397 -0.13009817339479923,-0.6491284072399139 l0.3698984161019325,-0.017590047791600227 1.109938621520996,0.062352875247597694 l0.9294852614402771,-0.27932995930314064 1.4154089987277985,-0.09351203218102455 l0.6791654229164124,-0.36644045263528824 0.33178143203258514,-0.7546713948249817 l-0.5089996755123138,0.0018020438437815756 -1.8198664486408234,0.8653685450553894 l-1.5450271964073181,-0.2516220137476921 -0.405341200530529,-0.8083286881446838 m-5.040464401245117,0.10080796666443348 m83.33521267864853,14.208327927772189 l-0.14723394997417927,-0.09666387923061848 3.2952988147735596,2.8427478671073914 l2.24340483546257,5.57358980178833 -0.40063999593257904,3.000759482383728 l-2.904112935066223,4.182751774787903 -2.2427628934383392,4.948227405548096 l-0.671895295381546,3.9816907048225403 0.43441276997327805,3.76907080411911 l0.7425671070814133,1.3196341693401337 2.0504963397979736,1.590934544801712 l2.0066915452480316,0.8257824182510376 4.177927076816559,0.3535792604088783 l9.429883360862732,-1.0074255615472794 1.9133920967578888,-1.0259920358657837 l3.080686032772064,-2.9760563373565674 1.9676868617534637,-4.497807323932648 l0.06229323334991932,-1.7855127155780792 -0.23818165063858032,-1.60862535238266 l-5.4523420333862305,-3.059719502925873 -2.1899397671222687,-2.3383115231990814 l-1.1093764752149582,-2.3181620240211487 -0.5503290519118309,-2.6218846440315247 l0.19689548760652542,-3.291758894920349 2.4601350724697113,-4.48040246963501 l-0.3647889941930771,-1.7366623878479004 -0.664665475487709,-1.7783507704734802 l-1.6974051296710968,-0.775531455874443 -14.1347074508667,0.923774316906929 l-3.9782896637916565,0.5133340135216713 m15.281038284301758,-2.256103754043579 l-0.5765207856893539,-3.4680429100990295 m-3.0385738611221313,7.151339650154114 l1.7298586666584015,-4.148987531661987 0.9745220094919205,-2.0636019110679626 l1.440253108739853,-6.394123435020447 m-1.0424628108739853,11.234437227249146 l-0.32974276691675186,-2.405734956264496 0.7253878563642502,-3.313368856906891 l0.8163987100124359,-1.6901427507400513 1.3250431418418884,-1.2865519523620605 m-4.190536737442017,14.413834810256958 l3.422601819038391,-6.398664712905884 1.4211075007915497,-2.5982415676116943 l2.1839869022369385,-3.086101710796356 m-5.422198176383972,14.401905536651611 l3.807327151298523,-8.571599125862122 3.7715619802474976,-7.547265291213989 m-8.158208727836609,14.369535446166992 l-2.531481385231018,-0.0988377071917057 -1.8574067950248718,-2.2858598828315735 l-2.065936326980591,-3.646659553050995 -1.753370314836502,-2.1619178354740143 m5.208026766777039,6.1573368310928345 l0.15324419364333153,-3.335273861885071 1.3145242631435394,-1.8507316708564758 l2.340817451477051,-5.228259563446045 2.8403156995773315,-3.429962396621704 l1.4875072240829468,-0.7972390204668045 2.3822201788425446,-0.5069829523563385 m-8.752999305725098,13.874654769897461 l2.802935838699341,-3.577447533607483 2.1348828077316284,-1.290300190448761 m-8.021234273910522,5.445055365562439 l0.07549137808382511,-1.5302975475788116 0.8853385597467422,-2.6103636622428894 m-3.0848154425621033,-0.9642420709133148 l-0.5533820018172264,1.2455731630325317 0.003772370982915163,0.5834605917334557 l0.7879631221294403,0.7680635154247284 3.2727816700935364,-0.5749247223138809 l1.0109181702136993,-1.1191004514694214 -0.25508323684334755,-1.8435350060462952 l-0.6543315201997757,-1.0514497011899948 -2.584063410758972,-0.8269032090902328 l-5.724761486053467,0.04665411543101072 -1.3702702522277832,-0.06715727504342794 l-1.0215974599123,0.93546561896801 -1.0812662541866302,0.3128035366535187 l-0.31067585572600365,1.306033581495285 0.6954161077737808,0.2904067747294903 l1.7112934589385986,0.05467688664793968 0.8551040291786194,0.4226522520184517 m78.87529287603684,3.5794052854180336 l0.0013958940689917654,-0.08371591567993164 2.7926766872406006,3.7677159905433655 l1.3129986822605133,3.0846789479255676 0.16524840146303177,3.9021459221839905 l-2.987246513366699,6.165295839309692 -1.356855183839798,2.6843369007110596 l-2.3329272866249084,4.124239981174469 -0.004448355175554752,4.595005512237549 l0.5371945351362228,1.0989484190940857 1.9122447073459625,2.1770602464675903 l4.537740051746368,1.663910150527954 5.408084988594055,-0.31777456402778625 l3.4201866388320923,-1.0233524441719055 2.3216280341148376,-1.1219583451747894 l3.8306140899658203,-2.9776105284690857 1.130363792181015,-1.8093198537826538 l1.969660371541977,-6.973029971122742 0.15659218654036522,-3.0218514800071716 l-1.5708956122398376,-2.756905257701874 -1.1351510882377625,-0.7630758732557297 l-4.826465845108032,-2.1622636914253235 -0.5706531181931496,-1.5938486158847809 l0.048259091563522816,-3.8352906703948975 0.8293329924345016,-1.1645619571208954 l3.594936728477478,-2.3854072391986847 0.3476196900010109,-0.7209023088216782 l-2.8844165802001953,-0.5394533276557922 -8.368430137634277,-0.6005622819066048 l-8.03470253944397,1.301610916852951 m9.876293540000916,-1.535068303346634 l-2.1295328438282013,-4.435773491859436 m-1.1036024987697601,3.1350067257881165 l-0.6604790687561035,-0.29005806893110275 m6.4686137437820435,-1.81268110871315 l-0.029075955972075462,1.3090591132640839 -0.3176539018750191,0.8875285089015961 m-1.445586234331131,-2.600333094596863 l-1.408812701702118,1.610015630722046 -0.41401974856853485,1.6040755808353424 l1.7392219603061676,-0.3282129392027855 0.5554058030247688,-1.5282431244850159 l0.7641267031431198,-1.3782909512519836 -1.1256937682628632,-0.5032725259661674 l-3.2242965698242188,0.32973188906908035 m-1.1105944961309433,0.4774075374007225 l-1.1452317982912064,0.816861093044281 -1.8146425485610962,1.863393485546112 l0.1973186619579792,2.045646607875824 1.210232675075531,1.0138392448425293 l4.476977586746216,-1.7254576086997986 1.2925644218921661,0.43281998485326767 l0.6449003517627716,-0.18237853422760963 -0.39454083889722824,-1.0905047506093979 l-1.4299675822257996,-1.4259877800941467 -3.2569223642349243,-1.1017629504203796 l-1.4113110303878784,-0.3709043562412262 m5.919815301895142,4.421790838241577 l-1.1045537889003754,0.15690866857767105 -0.27380192652344704,-0.7458427548408508 l0.8251658082008362,-3.1099122762680054 0.5070213600993156,-1.2717032432556152 l0.509103536605835,-0.8548262715339661 m8.614553213119507,9.941521286964417 l3.235771358013153,-3.327687680721283 2.588983178138733,-2.6690632104873657 m-6.596752405166626,6.57856285572052 l0.5631687864661217,-6.714428067207336 3.1298217177391052,-8.971970081329346 l-0.7968119531869888,0.5020320415496826 m1.5639497339725494,-0.15000257641077042 l-2.0381340384483337,-0.20610151812434196 -0.7644642144441605,-1.5029174089431763 l-0.8590485155582428,-2.2919924557209015 m-0.3693469986319542,4.9926793575286865 l0.10112193413078785,-1.1162247508764267 0.8644024282693863,-1.868104338645935 l2.135246992111206,-2.1116094291210175 1.8336890637874603,-1.0182789713144302 l1.4637771248817444,-0.19613897427916527 0.6048271432518959,0.28196971863508224 l0.23051027208566666,1.4160259068012238 -0.2873392589390278,1.1777973920106888 m54.98815053855651,11.927203178638592 l-0.4198864847421646,-0.08552992716431618 3.447306752204895,3.4269651770591736 l1.763024628162384,2.6250940561294556 -0.8891937136650085,6.6999757289886475 l-2.6337161660194397,2.8940996527671814 -3.435177803039551,3.030000925064087 l-0.4364452138543129,2.910681962966919 0.8895783871412277,6.97805643081665 l1.0728446394205093,1.5348528325557709 1.5603256225585938,0.8950066566467285 l2.6242077350616455,0.6206811219453812 5.880991816520691,-0.07628710474818945 l3.4819579124450684,-0.8323051780462265 3.3868980407714844,-1.7936676740646362 l5.358955264091492,-4.3295687437057495 1.1164534091949463,-2.01057568192482 l0.2463262714445591,-1.929924637079239 -0.4036460816860199,-2.879548668861389 l-1.7701958119869232,-4.133100807666779 -2.124054580926895,-2.822033166885376 l-3.012302815914154,-3.121931552886963 -0.6814451515674591,-2.2613097727298737 l1.124478504061699,-3.233126699924469 3.5276028513908386,-2.518475651741028 l0.9387530386447906,-1.2655936181545258 -1.458970159292221,-1.463889628648758 l-8.167309761047363,2.0991966128349304 -2.596489191055298,0.09732985869050026 l-8.53709101676941,0.1363795343786478 m7.40905225276947,3.028005361557007 l0.44226884841918945,-3.806598484516144 m1.7168951034545898,-1.8095806241035461 l-0.0008454179624095559,0.6040024384856224 m1.9773958623409271,0.3078867495059967 l-0.8239034563302994,-0.48641957342624664 m0.21038206294178963,-2.2695422172546387 l0.8548920601606369,-1.1072304844856262 2.146458923816681,-1.2629066407680511 m-6.370197534561157,4.162463843822479 l1.0351070016622543,3.9058727025985718 1.543181836605072,1.3078176975250244 l1.2051250040531158,-0.666162446141243 m-3.8396412134170532,-7.04011857509613 l2.2523075342178345,-3.337104916572571 1.2663622200489044,-0.8053984493017197 l0.3081955574452877,0.30687732622027397 -1.6514527797698975,2.6378971338272095 l-0.18087798729538918,0.6155778095126152 3.9703261852264404,1.3577191531658173 l1.1906655132770538,-1.8798398971557617 -0.36609672009944916,-1.6590113937854767 l-0.8120763301849365,-1.5574316680431366 -2.0096836984157562,-0.32330598682165146 l-1.7124663293361664,0.03713559592142701 -0.986282005906105,0.6930674612522125 m-0.22457486018538475,2.746816575527191 l-0.8878503739833832,-0.04955152980983257 -0.7061553001403809,0.2101275511085987 l0.1320810429751873,0.32575823366642 3.3739033341407776,-0.2978477254509926 l0.827082172036171,-1.442011296749115 -1.7762050032615662,-0.6051663681864738 m1.5491817891597748,-3.3903437852859497 l1.3699933886528015,1.3330501317977905 1.5699267387390137,1.4186546206474304 l-0.10091525502502918,1.6973292827606201 -0.7323639839887619,0.832187682390213 l-0.7347447425127029,-0.024366502184420824 3.6662158370018005,0.8762996643781662 l-1.6280573606491089,-0.517164021730423 -1.414705067873001,2.606324553489685 l-1.9597238302230835,0.4022334888577461 -2.33606219291687,-0.36003969609737396 l-0.8296232670545578,-1.590927392244339 m-5.631495118141174,5.375598669052124 l2.3991385102272034,1.6719882190227509 3.5645729303359985,-1.1609846353530884 l0.48722364008426666,-3.29096257686615 -0.5114469304680824,-3.339645266532898 l-2.766571044921875,-4.155455231666565 -2.854298949241638,0.8041010051965714 m3.529004156589508,5.213642716407776 m73.62274140294176,9.916095847729594 l-0.19750867038965225,0.2841910161077976 3.033694326877594,2.7824634313583374 l2.561858892440796,4.372901916503906 0.08590147830545902,3.491135835647583 l-2.7172648906707764,4.688467979431152 -3.3622318506240845,4.602881073951721 l-1.1002732813358307,3.521134853363037 0.5452179536223412,5.529639720916748 l0.6895016133785248,1.5300409495830536 1.4155475795269012,1.5936604142189026 l3.043833374977112,0.7361716032028198 2.960027754306793,0.21693091839551926 l3.2124122977256775,-0.010215796064585447 6.664312481880188,-2.151493728160858 l5.133154988288879,-4.389642775058746 1.311730444431305,-2.5769230723381042 l0.020738074090331793,-2.845175862312317 -1.5661266446113586,-3.0209150910377502 l-1.3723483681678772,-1.9126240909099579 -1.1280960589647293,-1.0478337109088898 l-1.9461798667907715,-1.191936880350113 -0.8958681672811508,-4.278005659580231 l-1.0384653508663177,-5.071391463279724 0.18088651821017265,-4.518773853778839 l0.7621637731790543,-1.3460227847099304 1.4940693974494934,-0.5239826813340187 l0.8303340524435043,0.3206164389848709 -6.867212653160095,0.2762787230312824 m-0.8829131722450256,-0.34370895475149155 l0.4865742102265358,-3.5283365845680237 5.810697674751282,-8.27479362487793 m4.58823561668396,-5.1370203495025635 l-0.24788117036223412,-0.005025179125368595 -2.6019060611724854,2.0381291210651398 m-3.3352425694465637,3.9566221833229065 l-0.826055034995079,-6.942541003227234 m0.834503248333931,4.538767039775848 l-2.1040749549865723,0.8670720458030701 -2.4391983449459076,-0.2844477444887161 l-4.176050424575806,-2.7308017015457153 -0.968334898352623,-1.2809070944786072 l-1.1331570893526077,-1.1523320525884628 m0.43556012213230133,-0.7118827849626541 l-0.45480042695999146,-1.018180400133133 -1.284613460302353,-0.48438921570777893 l-1.6400404274463654,-0.4666479676961899 -1.432178020477295,0.7327496260404587 l1.8558034300804138,-0.06507300306111574 1.6954413056373596,-0.22045955061912537 l1.1885258555412292,0.5867886915802956 2.579042613506317,2.359415888786316 l3.0512583255767822,0.3597850725054741 1.3399344682693481,0.29532279819250107 l0.5014992505311966,-0.21147703751921654 -0.3398141637444496,-0.08856987580657005 l-1.1197556555271149,0.07919591851532459 m-6.123749613761902,1.930692046880722 l0.22766919806599617,-1.160084754228592 0.3744172677397728,-6.838558912277222 l-0.579768568277359,0.5776206776499748 -0.2192274108529091,-0.3793647140264511 l-0.9127421677112579,0.05562680773437023 0.013624831335619092,-0.036392174661159515 l1.028251200914383,0.4702746123075485 1.659075915813446,0.2463969960808754 l3.1930214166641235,0.6277824193239212 -0.12618276290595531,-0.08437149226665497 l-2.464115172624588,3.0146485567092896 -1.36997789144516,1.4258475601673126 l0.017897175857797265,-0.09853232651948929 0.3228810429573059,-2.457907646894455 m-7.811160683631897,8.84989619255066 l2.9404672980308533,-1.3144400715827942 0.7216725498437881,-0.9363353252410889 l0.1741546392440796,-1.2799088656902313 -3.1750601530075073,-2.7034208178520203 l-0.4689040035009384,0.7539219409227371 0.15362726524472237,1.7350177466869354 l0.1309116743505001,-0.4815265163779259 1.664651483297348,-2.264198213815689 m-0.44705338776111603,-1.689998060464859 l-1.5198273956775665,0.6201958283782005 m87.01728873653337,27.833490985212848 l0.029068998992443085,-0.3080185130238533 2.2871319949626923,2.845022678375244 l2.2408272325992584,6.236909031867981 -0.39451275020837784,2.0686934888362885 l-3.0143287777900696,5.192984342575073 -2.306298613548279,5.269294381141663 l-1.0207997262477875,4.832630753517151 0.42310770601034164,2.1970118582248688 l1.905883401632309,2.675458788871765 1.4942124485969543,0.9460186213254929 l2.833886444568634,0.3907524049282074 7.391660809516907,0.16905497759580612 l5.091952681541443,-2.0374080538749695 2.9331794381141663,-2.0754702389240265 l2.3048029839992523,-2.930271029472351 0.9270630776882172,-3.8528913259506226 l-0.4547671601176262,-1.659771054983139 -2.8037723898887634,-4.7219517827034 l-3.0807816982269287,-1.8657071888446808 -3.3521708846092224,-4.030610024929047 l-0.49828507006168365,-2.480379492044449 0.35883016884326935,-0.854431763291359 l5.435230135917664,-3.152388036251068 0.264064185321331,-2.1744541823863983 l-9.517830610275269,-2.629455327987671 -2.9885464906692505,0.09249326772987843 l-4.851124882698059,0.7752168923616409 -1.4633475244045258,0.850217193365097 l0.4512929916381836,0.8731793612241745 m14.239845275878906,7.905983924865723 l-1.1522416025400162,-1.9358669221401215 m-5.065479278564453,-0.9453246742486954 m0.06872444413602352,-2.344183027744293 l-1.3693174719810486,-11.229919195175171 m3.2037872076034546,13.23526382446289 l0.6237522140145302,-2.39484503865242 2.394343912601471,-3.4353667497634888 m-3.7358415126800537,-0.14315334148705006 l0.8311650902032852,-3.917234241962433 0.728454515337944,2.7773460745811462 m-0.7195704430341721,-15.075596570968628 l-1.114230826497078,2.580656409263611 2.350243777036667,4.223596751689911 l2.896200120449066,3.5628846287727356 -3.2440000772476196,-2.2126123309135437 l-1.9343061745166779,-1.7140112817287445 -0.8386611193418503,-2.2413836419582367 m-1.6096793115139008,-4.603281319141388 l-1.7771302163600922,0.6071857362985611 -1.1935518682003021,1.540328711271286 l-0.42787976562976837,2.7817410230636597 2.3287521302700043,0.4749676585197449 l1.1705189943313599,-0.4843626916408539 0.8089660853147507,-2.1514402329921722 l0.03571395995095372,0.16464609652757645 -0.9405747056007385,0.28671780601143837 m-1.0832151770591736,-0.3605113551020622 l-0.38630351424217224,-0.6462676078081131 -0.157089214771986,-2.658745050430298 l1.9482389092445374,-2.428497076034546 2.1058563888072968,-1.4360973238945007 l1.953294426202774,-0.589713454246521 m-5.991030931472778,8.02848756313324 l-2.971017062664032,-7.260308861732483 -2.103070616722107,-4.26980048418045 l-0.6822788715362549,-3.02586168050766 -0.40791038423776627,-3.0249175429344177 l-0.2447107434272766,-5.280526876449585 m-0.3141946345567703,0.7003418356180191 l0.16983728855848312,-0.4701061174273491 -0.35079605877399445,0.4895912855863571 l-0.6770862638950348,-0.1353625487536192 -0.11451175436377525,-2.437370717525482 l-0.23370075970888138,-1.5779541432857513 0.8090313524007797,-0.7509876787662506 l-0.9300814568996429,0.5600924417376518 -3.238862454891205,1.9787755608558655 l-0.8149538189172745,0.47426383942365646 -0.022178860381245613,-1.3265158236026764 m0.07356420159339905,0.4688606411218643 l-1.8001878261566162,0.13122129254043102 -3.9025509357452393,-1.0792530328035355 \" fill=\"none\" stroke=\"black\" stroke-width=\"1\"/></svg>"
      ],
      "text/plain": [
       "<IPython.core.display.SVG object>"
      ]
     },
     "execution_count": 33,
     "metadata": {},
     "output_type": "execute_result"
    }
   ],
   "source": [
    "stroke_list = []\n",
    "for i in range(10):\n",
    "  stroke_list.append([decode(z, draw_mode=False, temperature=0.1*i+0.1), [0, i]])\n",
    "stroke_grid = make_grid_svg(stroke_list)\n",
    "draw_strokes(stroke_grid)"
   ]
  },
  {
   "cell_type": "markdown",
   "metadata": {},
   "source": [
    "OK, so we saw how to encode and decode a single sketch.\n",
    "Now let's see what happens when we interpolate between two different cats!"
   ]
  },
  {
   "cell_type": "code",
   "execution_count": null,
   "metadata": {},
   "outputs": [],
   "source": [
    "z0 = z\n",
    "\n",
    "# Get a sample drawing from the test set, and render it to .svg\n",
    "stroke = test_set.random_sample()\n",
    "draw_strokes(stroke,svg_filename = '/tmp/sketch_rnn/svg/sample.svg')\n",
    "z1 = encode(stroke)\n",
    "_ = decode(z1) # convert z back to drawing at temperature of 0.5\n",
    "\n",
    "z1 = np.squeeze(z1)\n",
    "z0 = np.squeeze(z0)"
   ]
  },
  {
   "cell_type": "code",
   "execution_count": 36,
   "metadata": {},
   "outputs": [],
   "source": [
    "def interpolate_z(z_0, z_1, draw=True):\n",
    "    z_list = [] # interpolate spherically between z0 and z1\n",
    "    N = 10\n",
    "    for t in np.linspace(0, 1, N):\n",
    "        z_list.append(slerp(z_0, z_1, t))\n",
    "    # for every latent vector in z_list, sample a vector image\n",
    "    reconstructions = []\n",
    "    for i in range(N):\n",
    "        reconstructions.append([decode(np.expand_dims(z_list[i],axis=0), draw_mode=False), [0, i]])\n",
    "    stroke_grid = make_grid_svg(reconstructions)\n",
    "    if draw:\n",
    "        draw_strokes(stroke_grid)"
   ]
  },
  {
   "cell_type": "code",
   "execution_count": null,
   "metadata": {
    "scrolled": true
   },
   "outputs": [],
   "source": [
    "interpolate_z(z0,z1)"
   ]
  },
  {
   "cell_type": "markdown",
   "metadata": {},
   "source": [
    "Since this is a Variational Autoencoder, we don't need to use an actual sketch in order to generate new sketches. We can sample randomly within the latent space and feed the result to the decoder.\n",
    "\n",
    "Let's let our model draw some random cats!"
   ]
  },
  {
   "cell_type": "code",
   "execution_count": 260,
   "metadata": {},
   "outputs": [
    {
     "data": {
      "image/svg+xml": [
       "<svg baseProfile=\"full\" height=\"102.14858040213585\" version=\"1.1\" width=\"78.0931980162859\" xmlns=\"http://www.w3.org/2000/svg\" xmlns:ev=\"http://www.w3.org/2001/xml-events\" xmlns:xlink=\"http://www.w3.org/1999/xlink\"><defs/><rect fill=\"white\" height=\"102.14858040213585\" width=\"78.0931980162859\" x=\"0\" y=\"0\"/><path d=\"M45.35370349884033,47.11437797173858 m-6.648989915847778,-0.6407564133405685 l-9.540818929672241,1.2602883577346802 -4.1638946533203125,3.1309938430786133 l0.7174074649810791,10.70805311203003 1.8521183729171753,8.680437207221985 l1.373976618051529,5.190712213516235 1.6738998889923096,1.410917043685913 l1.6802036762237549,0.2935570664703846 4.019074738025665,-1.2338170409202576 l3.2549580931663513,-2.586376667022705 4.511312246322632,-1.4579816162586212 l3.5370829701423645,-2.4831590056419373 2.7659836411476135,-3.429107367992401 l1.8567459285259247,-4.203976094722748 0.8504343777894974,-4.5914071798324585 l-0.0914664939045906,-4.544770121574402 -0.8215625584125519,-3.6477315425872803 l-1.212875247001648,-2.8425216674804688 -1.2718455493450165,-2.062024474143982 l-1.5549826622009277,-1.5519876778125763 -2.5160562992095947,-1.140068843960762 l-3.5904520750045776,-0.6347709894180298 -2.7528464794158936,0.8181066811084747 l-1.8376311659812927,1.1918389797210693 -1.268557608127594,1.1614684760570526 l-0.8028192818164825,0.812864825129509 m0.13743137940764427,-0.6068187952041626 l0.5826583504676819,-3.376355767250061 2.8365230560302734,-7.447002530097961 l4.000895917415619,-4.921619296073914 4.237866997718811,-2.4198827147483826 l4.304715394973755,-0.951479971408844 m-13.501107692718506,9.624435901641846 l1.4138489961624146,-1.1568967998027802 2.5114086270332336,-1.288389265537262 l3.1021925806999207,-0.5661021545529366 2.688129246234894,0.36212269216775894 l1.7044943571090698,1.1106551438570023 0.6664858758449554,1.2290943413972855 l-0.3597966581583023,0.9284573793411255 -2.693534195423126,0.9188345074653625 l-5.647039413452148,0.055521633476018906 m-6.817784905433655,-2.592824101448059 l0.490228533744812,1.5701107680797577 -0.6990246474742889,2.935800850391388 m-3.0950018763542175,3.052980601787567 l-0.36996103823184967,2.049019932746887 m-0.11983313597738743,-0.13567648828029633 l1.6609801352024078,-0.4260662943124771 m-2.6145964860916138,-3.0186808109283447 l0.8920405805110931,0.1453382521867752 m0.6185955926775932,-2.0561063289642334 l1.0856098681688309,2.237675040960312 m-0.15751153230667114,-1.7136870324611664 l1.286327987909317,1.978650540113449 m0.12279864400625229,-0.4571365937590599 l1.281803846359253,1.2240641564130783 m-5.509231686592102,-0.5608518794178963 l0.19403846934437752,-0.1353888213634491 m0.4788612946867943,-2.3700910806655884 l1.208643913269043,2.1591927111148834 -0.4000250995159149,3.158998191356659 \" fill=\"none\" stroke=\"black\" stroke-width=\"1\"/></svg>"
      ],
      "text/plain": [
       "<IPython.core.display.SVG object>"
      ]
     },
     "metadata": {},
     "output_type": "display_data"
    }
   ],
   "source": [
    "random_cat_1 = np.expand_dims(np.random.randn(model_params.z_size),0)\n",
    "_ = decode(random_cat_1)"
   ]
  },
  {
   "cell_type": "code",
   "execution_count": 42,
   "metadata": {
    "scrolled": true
   },
   "outputs": [
    {
     "data": {
      "image/svg+xml": [
       "<svg baseProfile=\"full\" height=\"129.10013494081795\" version=\"1.1\" width=\"125.22044831188396\" xmlns=\"http://www.w3.org/2000/svg\" xmlns:ev=\"http://www.w3.org/2001/xml-events\" xmlns:xlink=\"http://www.w3.org/1999/xlink\"><defs/><rect fill=\"white\" height=\"129.10013494081795\" width=\"125.22044831188396\" x=\"0\" y=\"0\"/><path d=\"M49.26583915948868,72.06664022989571 m-2.4050550162792206,25.730514526367188 l0.1824827864766121,6.302980184555054 8.43407690525055,-0.6064724177122116 l9.233524799346924,-0.043801842257380486 -1.2622234225273132,-13.711215257644653 l-0.9305402636528015,-15.013599395751953 -0.6968802213668823,-4.700905978679657 l-0.7456874847412109,-0.44482849538326263 m-11.318979263305664,0.3862198069691658 l-4.5370471477508545,0.28632989153265953 -8.613033890724182,-0.6826458871364594 l-2.8113290667533875,-1.0828860104084015 -6.073615550994873,-6.652662754058838 l-2.2956980764865875,-4.878488779067993 -0.4258342459797859,-5.921469330787659 l1.4321503043174744,-3.9597269892692566 3.1076037883758545,-2.6952555775642395 l4.310972094535828,-0.8031249791383743 3.22634220123291,0.5928361788392067 l9.323716759681702,7.840868234634399 -0.4802646115422249,-2.550153136253357 l-1.6104952991008759,-8.464073538780212 0.022195924539119005,-6.529391407966614 l1.7350345849990845,-5.080742239952087 2.989756762981415,-3.127562701702118 l3.851761817932129,-1.257382333278656 4.741421341896057,0.0004383891064208001 l2.8325551748275757,1.1787273734807968 5.731217265129089,5.428927540779114 l4.563930928707123,8.330032229423523 2.3548689484596252,8.020236492156982 l0.541410967707634,-4.658647179603577 2.3515769839286804,-5.692914724349976 l3.322097659111023,-3.9323341846466064 4.010619819164276,-1.9516414403915405 l3.9661169052124023,-6.80110497341957e-05 2.7195894718170166,1.2111180275678635 l3.9457061886787415,3.7888112664222717 4.3298715353012085,8.291529417037964 l1.9006907939910889,10.120896100997925 -0.9616207331418991,4.644639492034912 l-2.404344528913498,2.992544174194336 -3.401072919368744,1.6909889876842499 l-4.463699162006378,0.4978935047984123 0.3390895575284958,-0.24677453562617302 l6.583077907562256,3.6564424633979797 3.254617750644684,4.847796857357025 l0.7737086713314056,3.1832095980644226 -0.05084633827209473,3.2332584261894226 l-2.0208989083766937,2.982015907764435 -3.8478899002075195,1.9802659749984741 l-6.044109463691711,0.7631384581327438 -7.203315496444702,-0.813787654042244 l-6.150863170623779,-2.589564025402069 \" fill=\"none\" stroke=\"black\" stroke-width=\"1\"/></svg>"
      ],
      "text/plain": [
       "<IPython.core.display.SVG object>"
      ]
     },
     "metadata": {},
     "output_type": "display_data"
    }
   ],
   "source": [
    "random_cat_2 = np.expand_dims(np.random.randn(model_params.z_size),0)\n",
    "_ = decode(random_cat_2)"
   ]
  },
  {
   "cell_type": "markdown",
   "metadata": {},
   "source": [
    "Again, we can intepulate between our 2 random cats:"
   ]
  },
  {
   "cell_type": "code",
   "execution_count": 92,
   "metadata": {
    "scrolled": true
   },
   "outputs": [
    {
     "ename": "NameError",
     "evalue": "name 'random_cat_2' is not defined",
     "output_type": "error",
     "traceback": [
      "\u001b[0;31m---------------------------------------------------------------------------\u001b[0m",
      "\u001b[0;31mNameError\u001b[0m                                 Traceback (most recent call last)",
      "\u001b[0;32m<ipython-input-92-cd19e118bfcb>\u001b[0m in \u001b[0;36m<module>\u001b[0;34m\u001b[0m\n\u001b[1;32m      1\u001b[0m \u001b[0mrandom_cat_1\u001b[0m \u001b[0;34m=\u001b[0m \u001b[0mnp\u001b[0m\u001b[0;34m.\u001b[0m\u001b[0msqueeze\u001b[0m\u001b[0;34m(\u001b[0m\u001b[0mrandom_cat_1\u001b[0m\u001b[0;34m)\u001b[0m\u001b[0;34m\u001b[0m\u001b[0;34m\u001b[0m\u001b[0m\n\u001b[0;32m----> 2\u001b[0;31m \u001b[0mrandom_cat_2\u001b[0m \u001b[0;34m=\u001b[0m \u001b[0mnp\u001b[0m\u001b[0;34m.\u001b[0m\u001b[0msqueeze\u001b[0m\u001b[0;34m(\u001b[0m\u001b[0mrandom_cat_2\u001b[0m\u001b[0;34m)\u001b[0m\u001b[0;34m\u001b[0m\u001b[0;34m\u001b[0m\u001b[0m\n\u001b[0m\u001b[1;32m      3\u001b[0m \u001b[0;31m# interpolate_z(random_cat_2,random_cat_2)\u001b[0m\u001b[0;34m\u001b[0m\u001b[0;34m\u001b[0m\u001b[0;34m\u001b[0m\u001b[0m\n\u001b[1;32m      4\u001b[0m \u001b[0minterpolate_z\u001b[0m\u001b[0;34m(\u001b[0m\u001b[0mrandom_cat_1\u001b[0m\u001b[0;34m,\u001b[0m\u001b[0mrandom_cat_2\u001b[0m\u001b[0;34m)\u001b[0m\u001b[0;34m\u001b[0m\u001b[0;34m\u001b[0m\u001b[0m\n",
      "\u001b[0;31mNameError\u001b[0m: name 'random_cat_2' is not defined"
     ]
    }
   ],
   "source": [
    "random_cat_1 = np.squeeze(random_cat_1)\n",
    "random_cat_2 = np.squeeze(random_cat_2)\n",
    "# interpolate_z(random_cat_2,random_cat_2)\n",
    "interpolate_z(random_cat_1,random_cat_2)"
   ]
  },
  {
   "cell_type": "markdown",
   "metadata": {},
   "source": [
    "### Using a model trained on more than one data-set\n",
    "Now let's load a model trained on both **cats** and **guitars**."
   ]
  },
  {
   "cell_type": "code",
   "execution_count": 20,
   "metadata": {},
   "outputs": [],
   "source": [
    "# Path to the experiment directory that was created during training\n",
    "exp_dir = 'examples\\experiments\\cat_guitar'\n",
    "# Checkpoint file name (assumed in checkpoints folder within exp_dir)\n",
    "weights_fname = 'weights.hdf5'"
   ]
  },
  {
   "cell_type": "code",
   "execution_count": 21,
   "metadata": {},
   "outputs": [
    {
     "ename": "FileNotFoundError",
     "evalue": "[Errno 2] No such file or directory: 'examples\\\\experiments\\\\cat_guitar/logs/model_config.json'",
     "output_type": "error",
     "traceback": [
      "\u001b[0;31m---------------------------------------------------------------------------\u001b[0m",
      "\u001b[0;31mFileNotFoundError\u001b[0m                         Traceback (most recent call last)",
      "\u001b[0;32m<ipython-input-21-4779f6d7a813>\u001b[0m in \u001b[0;36m<module>\u001b[0;34m\u001b[0m\n\u001b[0;32m----> 1\u001b[0;31m \u001b[0;32mwith\u001b[0m \u001b[0mopen\u001b[0m\u001b[0;34m(\u001b[0m\u001b[0mos\u001b[0m\u001b[0;34m.\u001b[0m\u001b[0mpath\u001b[0m\u001b[0;34m.\u001b[0m\u001b[0mjoin\u001b[0m\u001b[0;34m(\u001b[0m\u001b[0mexp_dir\u001b[0m\u001b[0;34m,\u001b[0m\u001b[0;34m'logs'\u001b[0m\u001b[0;34m,\u001b[0m \u001b[0;34m'model_config.json'\u001b[0m\u001b[0;34m)\u001b[0m\u001b[0;34m,\u001b[0m \u001b[0;34m'r'\u001b[0m\u001b[0;34m)\u001b[0m \u001b[0;32mas\u001b[0m \u001b[0mf\u001b[0m\u001b[0;34m:\u001b[0m\u001b[0;34m\u001b[0m\u001b[0;34m\u001b[0m\u001b[0m\n\u001b[0m\u001b[1;32m      2\u001b[0m     \u001b[0mmodel_params\u001b[0m \u001b[0;34m=\u001b[0m \u001b[0mjson\u001b[0m\u001b[0;34m.\u001b[0m\u001b[0mload\u001b[0m\u001b[0;34m(\u001b[0m\u001b[0mf\u001b[0m\u001b[0;34m)\u001b[0m\u001b[0;34m\u001b[0m\u001b[0;34m\u001b[0m\u001b[0m\n\u001b[1;32m      3\u001b[0m \u001b[0mmodel_params\u001b[0m \u001b[0;34m=\u001b[0m \u001b[0mDotDict\u001b[0m\u001b[0;34m(\u001b[0m\u001b[0mmodel_params\u001b[0m\u001b[0;34m)\u001b[0m\u001b[0;34m\u001b[0m\u001b[0;34m\u001b[0m\u001b[0m\n\u001b[1;32m      4\u001b[0m \u001b[0;34m[\u001b[0m\u001b[0mtrain_set\u001b[0m\u001b[0;34m,\u001b[0m \u001b[0mvalid_set\u001b[0m\u001b[0;34m,\u001b[0m \u001b[0mtest_set\u001b[0m\u001b[0;34m,\u001b[0m \u001b[0mhps_model\u001b[0m\u001b[0;34m]\u001b[0m \u001b[0;34m=\u001b[0m \u001b[0mload_dataset\u001b[0m\u001b[0;34m(\u001b[0m\u001b[0mdata_dir\u001b[0m\u001b[0;34m,\u001b[0m \u001b[0mmodel_params\u001b[0m\u001b[0;34m)\u001b[0m\u001b[0;34m\u001b[0m\u001b[0;34m\u001b[0m\u001b[0m\n",
      "\u001b[0;31mFileNotFoundError\u001b[0m: [Errno 2] No such file or directory: 'examples\\\\experiments\\\\cat_guitar/logs/model_config.json'"
     ]
    }
   ],
   "source": [
    "with open(os.path.join(exp_dir,'logs', 'model_config.json'), 'r') as f:\n",
    "    model_params = json.load(f)\n",
    "model_params = DotDict(model_params)   \n",
    "[train_set, valid_set, test_set, hps_model] = load_dataset(data_dir, model_params)"
   ]
  },
  {
   "cell_type": "code",
   "execution_count": null,
   "metadata": {},
   "outputs": [],
   "source": [
    "weights = os.path.join(exp_dir,'checkpoints',weights_fname) # checkpoint path\n",
    "seq2seq = Seq2seqModel(model_params)  # build model\n",
    "seq2seq.load_trained_weights(weights) # load checkpoint\n",
    "seq2seq.make_sampling_models()  # build sub models that are used to infuse inputs and probe values of intermediate layers"
   ]
  },
  {
   "cell_type": "markdown",
   "metadata": {},
   "source": [
    "Cat sketch reconstruction:"
   ]
  },
  {
   "cell_type": "code",
   "execution_count": null,
   "metadata": {},
   "outputs": [],
   "source": [
    "# Get a sample drawing from the test set, and render it to .svg\n",
    "stroke = test_set.random_sample()\n",
    "draw_strokes(stroke,svg_filename = '/tmp/sketch_rnn/svg/sample.svg')\n",
    "z_cat = encode(stroke)\n",
    "_ = decode(z_cat) # convert z back to drawing at temperature of 0.5"
   ]
  },
  {
   "cell_type": "markdown",
   "metadata": {},
   "source": [
    "Guitar sketch reconstruction:"
   ]
  },
  {
   "cell_type": "code",
   "execution_count": null,
   "metadata": {},
   "outputs": [],
   "source": [
    "# Get a sample drawing from the test set, and render it to .svg\n",
    "stroke = test_set.random_sample()\n",
    "draw_strokes(stroke,svg_filename = '/tmp/sketch_rnn/svg/sample.svg')\n",
    "z_guitar = encode(stroke)\n",
    "_ = decode(z_guitar) # convert z back to drawing at temperature of 0.5\n",
    "\n",
    "z_guitar = np.squeeze(z_guitar)\n",
    "z_cat = np.squeeze(z_cat)"
   ]
  },
  {
   "cell_type": "markdown",
   "metadata": {},
   "source": [
    "Interpolating from cat to guitar!"
   ]
  },
  {
   "cell_type": "code",
   "execution_count": null,
   "metadata": {
    "scrolled": true
   },
   "outputs": [],
   "source": [
    "interpolate_z(z_cat,z_guitar)"
   ]
  },
  {
   "cell_type": "markdown",
   "metadata": {},
   "source": [
    "Examples in this notebook use models trained on my laptop's GPU:\n",
    "  * Cat model : 50 epochs\n",
    "  * Cat + Guitar model: 15 epochs\n",
    " \n",
    "Given more time and resources I expect results to be even better than ones shown here."
   ]
  },
  {
   "cell_type": "code",
   "execution_count": 218,
   "metadata": {},
   "outputs": [],
   "source": [
    "from skimage import io\n"
   ]
  },
  {
   "cell_type": "code",
   "execution_count": 307,
   "metadata": {},
   "outputs": [],
   "source": [
    "im = io.imread('baseball.jpg');"
   ]
  },
  {
   "cell_type": "code",
   "execution_count": 308,
   "metadata": {},
   "outputs": [
    {
     "data": {
      "text/plain": [
       "<matplotlib.image.AxesImage at 0x7f8e7c0bac18>"
      ]
     },
     "execution_count": 308,
     "metadata": {},
     "output_type": "execute_result"
    },
    {
     "data": {
      "image/png": "[encoded data removed]",
      "text/plain": [
       "<Figure size 432x288 with 1 Axes>"
      ]
     },
     "metadata": {
      "needs_background": "light"
     },
     "output_type": "display_data"
    }
   ],
   "source": [
    "plt.imshow(im)"
   ]
  },
  {
   "cell_type": "code",
   "execution_count": 225,
   "metadata": {},
   "outputs": [
    {
     "name": "stdout",
     "output_type": "stream",
     "text": [
      "[-1.266552   -1.8645268   1.35899495  1.05795828 -0.96063311 -0.78120493  1.30340821  0.21605598  0.4942537  -1.01276112 -1.034005   -0.11588572 -4.45135778 -0.21737874  0.45578966 -0.69444802\n",
      " -1.53812206  0.40311169 -0.57386829  0.27548195  0.30483948 -1.11078799  0.61904328 -0.12907544  0.61982066 -0.59780456 -0.56086811 -1.00667089  0.86791642  1.12692911 -1.1355617   0.35566376\n",
      "  0.86528342  0.59654607  0.51012158 -0.29375383 -0.8111362  -1.08406201  1.52570959 -1.59693853 -0.18758329  0.31213497  0.33432225  1.31189745 -0.27801895  1.3815103  -0.8533668   1.65451886\n",
      " -0.9611844   0.19744934 -0.13704723  0.26473268  1.86363499 -2.21574528  0.08280436  0.63387714 -0.09276394 -1.19582042 -0.49397184 -1.66527868  0.29024306  0.5883935  -0.04480405 -0.52452806\n",
      "  0.60338704 -1.05283227 -0.88222235  0.25202032 -1.37871371 -0.60151927 -1.85122619  0.93826925  1.87366157  0.42780137  1.23019968  0.78404718  1.33103241 -0.32379592 -0.42023653  2.16207385\n",
      " -1.29858735  0.37643     1.516852   -0.2864037   0.60925755 -0.46155784  0.68305078 -0.10179012 -0.09716219 -1.24125615 -0.61271445 -1.35373714  0.07595013 -0.29111343 -0.41274661  0.83424588\n",
      " -0.65659762  0.07761595  0.74464026  1.07253135  1.25313878 -0.05264313 -0.5606586  -1.12664359 -0.10375975  1.2987821  -1.43101156  0.42735094  0.63307818 -1.13861146  0.77699703  1.98457524\n",
      " -0.08702303  1.53872899 -0.32367793  0.54766417 -0.2204717  -0.68901922 -0.56105619 -0.56166067  0.69765804  1.72459709 -0.53469898  0.53819093  0.73665198  0.55588806  0.64721094 -1.47746534]\n"
     ]
    }
   ],
   "source": []
  },
  {
   "cell_type": "code",
   "execution_count": null,
   "metadata": {},
   "outputs": [],
   "source": []
  }
 ],
 "metadata": {
  "kernelspec": {
   "display_name": "Python 3",
   "language": "python",
   "name": "python3"
  },
  "language_info": {
   "codemirror_mode": {
    "name": "ipython",
    "version": 3
   },
   "file_extension": ".py",
   "mimetype": "text/x-python",
   "name": "python",
   "nbconvert_exporter": "python",
   "pygments_lexer": "ipython3",
   "version": "3.6.9"
  }
 },
 "nbformat": 4,
 "nbformat_minor": 4
}
